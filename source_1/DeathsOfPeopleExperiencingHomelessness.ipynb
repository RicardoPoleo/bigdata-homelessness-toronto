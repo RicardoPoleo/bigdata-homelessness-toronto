{
 "cells": [
  {
   "metadata": {},
   "cell_type": "markdown",
   "source": [
    "# PreProcess\n",
    "\n",
    "This notebook is used to analyze the data and prepare it to be uploaded to the database."
   ],
   "id": "f73743cd9752a3fd"
  },
  {
   "metadata": {
    "jupyter": {
     "is_executing": true
    }
   },
   "cell_type": "code",
   "source": "!pip install pandas",
   "id": "103fd1d24eae3c4b",
   "outputs": [],
   "execution_count": null
  },
  {
   "cell_type": "code",
   "id": "initial_id",
   "metadata": {
    "collapsed": true,
    "ExecuteTime": {
     "end_time": "2024-06-18T21:55:16.052166Z",
     "start_time": "2024-06-18T21:55:15.385399Z"
    }
   },
   "source": [
    "# Import used libraries\n",
    "import pandas as pd"
   ],
   "outputs": [],
   "execution_count": 1
  },
  {
   "metadata": {
    "ExecuteTime": {
     "end_time": "2024-06-18T21:56:41.353296Z",
     "start_time": "2024-06-18T21:56:41.340014Z"
    }
   },
   "cell_type": "code",
   "source": [
    "# Load the data\n",
    "deaths_causes = pd.read_csv(\"C:\\projects\\BigData2Project\\source_1\\deaths-of-people-experiencing-homelessness\\homeless-deaths-by-cause.csv\")\n",
    "deaths_demographics = pd.read_csv(\"C:\\projects\\BigData2Project\\source_1\\deaths-of-people-experiencing-homelessness\\homeless-deaths-by-demographics.csv\")\n",
    "deaths_monthly = pd.read_csv(\"C:\\projects\\BigData2Project\\source_1\\deaths-of-people-experiencing-homelessness\\homeless-deaths-by-month.csv\")"
   ],
   "id": "b5216421db3096f0",
   "outputs": [],
   "execution_count": 7
  },
  {
   "metadata": {},
   "cell_type": "markdown",
   "source": "## Data Exploration",
   "id": "b287a269d209e9e9"
  },
  {
   "metadata": {
    "ExecuteTime": {
     "end_time": "2024-06-18T21:56:57.646834Z",
     "start_time": "2024-06-18T21:56:57.625868Z"
    }
   },
   "cell_type": "code",
   "source": "deaths_causes.head()",
   "id": "e407d6716e48bcae",
   "outputs": [
    {
     "data": {
      "text/plain": [
       "   _id  Year of death          Cause_of_death Age_group  Gender  Count\n",
       "0    1           2023  Cardiovascular Disease   Unknown    Male      1\n",
       "1    2           2019                   Other     20-39    Male      1\n",
       "2    3           2018                 Suicide     20-39    Male      1\n",
       "3    4           2017                Accident     40-59    Male      2\n",
       "4    5           2022                   Other     40-59  Female      1"
      ],
      "text/html": [
       "<div>\n",
       "<style scoped>\n",
       "    .dataframe tbody tr th:only-of-type {\n",
       "        vertical-align: middle;\n",
       "    }\n",
       "\n",
       "    .dataframe tbody tr th {\n",
       "        vertical-align: top;\n",
       "    }\n",
       "\n",
       "    .dataframe thead th {\n",
       "        text-align: right;\n",
       "    }\n",
       "</style>\n",
       "<table border=\"1\" class=\"dataframe\">\n",
       "  <thead>\n",
       "    <tr style=\"text-align: right;\">\n",
       "      <th></th>\n",
       "      <th>_id</th>\n",
       "      <th>Year of death</th>\n",
       "      <th>Cause_of_death</th>\n",
       "      <th>Age_group</th>\n",
       "      <th>Gender</th>\n",
       "      <th>Count</th>\n",
       "    </tr>\n",
       "  </thead>\n",
       "  <tbody>\n",
       "    <tr>\n",
       "      <th>0</th>\n",
       "      <td>1</td>\n",
       "      <td>2023</td>\n",
       "      <td>Cardiovascular Disease</td>\n",
       "      <td>Unknown</td>\n",
       "      <td>Male</td>\n",
       "      <td>1</td>\n",
       "    </tr>\n",
       "    <tr>\n",
       "      <th>1</th>\n",
       "      <td>2</td>\n",
       "      <td>2019</td>\n",
       "      <td>Other</td>\n",
       "      <td>20-39</td>\n",
       "      <td>Male</td>\n",
       "      <td>1</td>\n",
       "    </tr>\n",
       "    <tr>\n",
       "      <th>2</th>\n",
       "      <td>3</td>\n",
       "      <td>2018</td>\n",
       "      <td>Suicide</td>\n",
       "      <td>20-39</td>\n",
       "      <td>Male</td>\n",
       "      <td>1</td>\n",
       "    </tr>\n",
       "    <tr>\n",
       "      <th>3</th>\n",
       "      <td>4</td>\n",
       "      <td>2017</td>\n",
       "      <td>Accident</td>\n",
       "      <td>40-59</td>\n",
       "      <td>Male</td>\n",
       "      <td>2</td>\n",
       "    </tr>\n",
       "    <tr>\n",
       "      <th>4</th>\n",
       "      <td>5</td>\n",
       "      <td>2022</td>\n",
       "      <td>Other</td>\n",
       "      <td>40-59</td>\n",
       "      <td>Female</td>\n",
       "      <td>1</td>\n",
       "    </tr>\n",
       "  </tbody>\n",
       "</table>\n",
       "</div>"
      ]
     },
     "execution_count": 8,
     "metadata": {},
     "output_type": "execute_result"
    }
   ],
   "execution_count": 8
  },
  {
   "metadata": {
    "ExecuteTime": {
     "end_time": "2024-06-18T21:57:04.066598Z",
     "start_time": "2024-06-18T21:57:04.056095Z"
    }
   },
   "cell_type": "code",
   "source": "deaths_demographics.head()",
   "id": "85c2d131a0386fc0",
   "outputs": [
    {
     "data": {
      "text/plain": [
       "   _id  Year of death Age_group       Gender  Count\n",
       "0    1           2017   Unknown       Female      1\n",
       "1    2           2017     20-39  Transgender      1\n",
       "2    3           2017       60+       Female      6\n",
       "3    4           2017     40-59       Female     12\n",
       "4    5           2017       60+         Male     20"
      ],
      "text/html": [
       "<div>\n",
       "<style scoped>\n",
       "    .dataframe tbody tr th:only-of-type {\n",
       "        vertical-align: middle;\n",
       "    }\n",
       "\n",
       "    .dataframe tbody tr th {\n",
       "        vertical-align: top;\n",
       "    }\n",
       "\n",
       "    .dataframe thead th {\n",
       "        text-align: right;\n",
       "    }\n",
       "</style>\n",
       "<table border=\"1\" class=\"dataframe\">\n",
       "  <thead>\n",
       "    <tr style=\"text-align: right;\">\n",
       "      <th></th>\n",
       "      <th>_id</th>\n",
       "      <th>Year of death</th>\n",
       "      <th>Age_group</th>\n",
       "      <th>Gender</th>\n",
       "      <th>Count</th>\n",
       "    </tr>\n",
       "  </thead>\n",
       "  <tbody>\n",
       "    <tr>\n",
       "      <th>0</th>\n",
       "      <td>1</td>\n",
       "      <td>2017</td>\n",
       "      <td>Unknown</td>\n",
       "      <td>Female</td>\n",
       "      <td>1</td>\n",
       "    </tr>\n",
       "    <tr>\n",
       "      <th>1</th>\n",
       "      <td>2</td>\n",
       "      <td>2017</td>\n",
       "      <td>20-39</td>\n",
       "      <td>Transgender</td>\n",
       "      <td>1</td>\n",
       "    </tr>\n",
       "    <tr>\n",
       "      <th>2</th>\n",
       "      <td>3</td>\n",
       "      <td>2017</td>\n",
       "      <td>60+</td>\n",
       "      <td>Female</td>\n",
       "      <td>6</td>\n",
       "    </tr>\n",
       "    <tr>\n",
       "      <th>3</th>\n",
       "      <td>4</td>\n",
       "      <td>2017</td>\n",
       "      <td>40-59</td>\n",
       "      <td>Female</td>\n",
       "      <td>12</td>\n",
       "    </tr>\n",
       "    <tr>\n",
       "      <th>4</th>\n",
       "      <td>5</td>\n",
       "      <td>2017</td>\n",
       "      <td>60+</td>\n",
       "      <td>Male</td>\n",
       "      <td>20</td>\n",
       "    </tr>\n",
       "  </tbody>\n",
       "</table>\n",
       "</div>"
      ]
     },
     "execution_count": 9,
     "metadata": {},
     "output_type": "execute_result"
    }
   ],
   "execution_count": 9
  },
  {
   "metadata": {
    "ExecuteTime": {
     "end_time": "2024-06-18T21:57:07.720898Z",
     "start_time": "2024-06-18T21:57:07.709780Z"
    }
   },
   "cell_type": "code",
   "source": "deaths_monthly.head()",
   "id": "5b11dd46ed6a2a71",
   "outputs": [
    {
     "data": {
      "text/plain": [
       "   _id  Year of death Month of death  Count\n",
       "0    1           2022           July     19\n",
       "1    2           2023       February     13\n",
       "2    3           2023          April      8\n",
       "3    4           2017        October      6\n",
       "4    5           2023          March     14"
      ],
      "text/html": [
       "<div>\n",
       "<style scoped>\n",
       "    .dataframe tbody tr th:only-of-type {\n",
       "        vertical-align: middle;\n",
       "    }\n",
       "\n",
       "    .dataframe tbody tr th {\n",
       "        vertical-align: top;\n",
       "    }\n",
       "\n",
       "    .dataframe thead th {\n",
       "        text-align: right;\n",
       "    }\n",
       "</style>\n",
       "<table border=\"1\" class=\"dataframe\">\n",
       "  <thead>\n",
       "    <tr style=\"text-align: right;\">\n",
       "      <th></th>\n",
       "      <th>_id</th>\n",
       "      <th>Year of death</th>\n",
       "      <th>Month of death</th>\n",
       "      <th>Count</th>\n",
       "    </tr>\n",
       "  </thead>\n",
       "  <tbody>\n",
       "    <tr>\n",
       "      <th>0</th>\n",
       "      <td>1</td>\n",
       "      <td>2022</td>\n",
       "      <td>July</td>\n",
       "      <td>19</td>\n",
       "    </tr>\n",
       "    <tr>\n",
       "      <th>1</th>\n",
       "      <td>2</td>\n",
       "      <td>2023</td>\n",
       "      <td>February</td>\n",
       "      <td>13</td>\n",
       "    </tr>\n",
       "    <tr>\n",
       "      <th>2</th>\n",
       "      <td>3</td>\n",
       "      <td>2023</td>\n",
       "      <td>April</td>\n",
       "      <td>8</td>\n",
       "    </tr>\n",
       "    <tr>\n",
       "      <th>3</th>\n",
       "      <td>4</td>\n",
       "      <td>2017</td>\n",
       "      <td>October</td>\n",
       "      <td>6</td>\n",
       "    </tr>\n",
       "    <tr>\n",
       "      <th>4</th>\n",
       "      <td>5</td>\n",
       "      <td>2023</td>\n",
       "      <td>March</td>\n",
       "      <td>14</td>\n",
       "    </tr>\n",
       "  </tbody>\n",
       "</table>\n",
       "</div>"
      ]
     },
     "execution_count": 10,
     "metadata": {},
     "output_type": "execute_result"
    }
   ],
   "execution_count": 10
  },
  {
   "metadata": {},
   "cell_type": "markdown",
   "source": "## Missing values",
   "id": "d678e0da1df77585"
  },
  {
   "metadata": {
    "ExecuteTime": {
     "end_time": "2024-06-18T21:59:52.222070Z",
     "start_time": "2024-06-18T21:59:52.212365Z"
    }
   },
   "cell_type": "code",
   "source": "deaths_causes.isnull().sum()",
   "id": "5f44c1b9f4d756d8",
   "outputs": [
    {
     "data": {
      "text/plain": [
       "_id               0\n",
       "Year of death     0\n",
       "Cause_of_death    0\n",
       "Age_group         0\n",
       "Gender            0\n",
       "Count             0\n",
       "dtype: int64"
      ]
     },
     "execution_count": 11,
     "metadata": {},
     "output_type": "execute_result"
    }
   ],
   "execution_count": 11
  },
  {
   "metadata": {
    "ExecuteTime": {
     "end_time": "2024-06-18T21:59:57.074305Z",
     "start_time": "2024-06-18T21:59:57.064153Z"
    }
   },
   "cell_type": "code",
   "source": "deaths_demographics.isnull().sum()",
   "id": "ce4a20f17c61c095",
   "outputs": [
    {
     "data": {
      "text/plain": [
       "_id              0\n",
       "Year of death    0\n",
       "Age_group        0\n",
       "Gender           0\n",
       "Count            0\n",
       "dtype: int64"
      ]
     },
     "execution_count": 12,
     "metadata": {},
     "output_type": "execute_result"
    }
   ],
   "execution_count": 12
  },
  {
   "metadata": {
    "ExecuteTime": {
     "end_time": "2024-06-18T22:00:00.433341Z",
     "start_time": "2024-06-18T22:00:00.424493Z"
    }
   },
   "cell_type": "code",
   "source": "deaths_monthly.isnull().sum()",
   "id": "c63579c875fa9fbd",
   "outputs": [
    {
     "data": {
      "text/plain": [
       "_id               0\n",
       "Year of death     0\n",
       "Month of death    0\n",
       "Count             0\n",
       "dtype: int64"
      ]
     },
     "execution_count": 13,
     "metadata": {},
     "output_type": "execute_result"
    }
   ],
   "execution_count": 13
  },
  {
   "metadata": {
    "ExecuteTime": {
     "end_time": "2024-06-18T22:00:40.516667Z",
     "start_time": "2024-06-18T22:00:40.508319Z"
    }
   },
   "cell_type": "code",
   "source": [
    "# Check the data types\n",
    "deaths_causes.dtypes"
   ],
   "id": "8df09de8ac3137b",
   "outputs": [
    {
     "data": {
      "text/plain": [
       "_id                int64\n",
       "Year of death      int64\n",
       "Cause_of_death    object\n",
       "Age_group         object\n",
       "Gender            object\n",
       "Count              int64\n",
       "dtype: object"
      ]
     },
     "execution_count": 14,
     "metadata": {},
     "output_type": "execute_result"
    }
   ],
   "execution_count": 14
  },
  {
   "metadata": {
    "ExecuteTime": {
     "end_time": "2024-06-18T22:00:52.140222Z",
     "start_time": "2024-06-18T22:00:52.130634Z"
    }
   },
   "cell_type": "code",
   "source": "deaths_demographics.dtypes",
   "id": "3597f1773ce8544b",
   "outputs": [
    {
     "data": {
      "text/plain": [
       "_id               int64\n",
       "Year of death     int64\n",
       "Age_group        object\n",
       "Gender           object\n",
       "Count             int64\n",
       "dtype: object"
      ]
     },
     "execution_count": 15,
     "metadata": {},
     "output_type": "execute_result"
    }
   ],
   "execution_count": 15
  },
  {
   "metadata": {
    "ExecuteTime": {
     "end_time": "2024-06-18T22:00:55.322279Z",
     "start_time": "2024-06-18T22:00:55.313131Z"
    }
   },
   "cell_type": "code",
   "source": "deaths_monthly.dtypes",
   "id": "bd64a883ed2a301",
   "outputs": [
    {
     "data": {
      "text/plain": [
       "_id                int64\n",
       "Year of death      int64\n",
       "Month of death    object\n",
       "Count              int64\n",
       "dtype: object"
      ]
     },
     "execution_count": 16,
     "metadata": {},
     "output_type": "execute_result"
    }
   ],
   "execution_count": 16
  },
  {
   "metadata": {
    "ExecuteTime": {
     "end_time": "2024-06-18T22:01:13.635930Z",
     "start_time": "2024-06-18T22:01:13.628825Z"
    }
   },
   "cell_type": "code",
   "source": [
    "# Check the shape of the data\n",
    "deaths_causes.shape"
   ],
   "id": "d31d5145ac6ac7ab",
   "outputs": [
    {
     "data": {
      "text/plain": [
       "(267, 6)"
      ]
     },
     "execution_count": 17,
     "metadata": {},
     "output_type": "execute_result"
    }
   ],
   "execution_count": 17
  },
  {
   "metadata": {
    "ExecuteTime": {
     "end_time": "2024-06-18T22:01:29.141828Z",
     "start_time": "2024-06-18T22:01:29.135026Z"
    }
   },
   "cell_type": "code",
   "source": "deaths_demographics.shape",
   "id": "287776fe2b92f659",
   "outputs": [
    {
     "data": {
      "text/plain": [
       "(75, 5)"
      ]
     },
     "execution_count": 18,
     "metadata": {},
     "output_type": "execute_result"
    }
   ],
   "execution_count": 18
  },
  {
   "metadata": {
    "ExecuteTime": {
     "end_time": "2024-06-18T22:01:32.636474Z",
     "start_time": "2024-06-18T22:01:32.628773Z"
    }
   },
   "cell_type": "code",
   "source": "deaths_monthly.shape",
   "id": "72c5397de64d22b",
   "outputs": [
    {
     "data": {
      "text/plain": [
       "(84, 4)"
      ]
     },
     "execution_count": 19,
     "metadata": {},
     "output_type": "execute_result"
    }
   ],
   "execution_count": 19
  },
  {
   "metadata": {
    "ExecuteTime": {
     "end_time": "2024-06-18T22:01:41.889027Z",
     "start_time": "2024-06-18T22:01:41.876990Z"
    }
   },
   "cell_type": "code",
   "source": [
    "# Check the unique values of the data\n",
    "deaths_causes.nunique()"
   ],
   "id": "f909d2217d56c06e",
   "outputs": [
    {
     "data": {
      "text/plain": [
       "_id               267\n",
       "Year of death       7\n",
       "Cause_of_death     12\n",
       "Age_group           5\n",
       "Gender              3\n",
       "Count              23\n",
       "dtype: int64"
      ]
     },
     "execution_count": 20,
     "metadata": {},
     "output_type": "execute_result"
    }
   ],
   "execution_count": 20
  },
  {
   "metadata": {
    "ExecuteTime": {
     "end_time": "2024-06-18T22:01:45.490763Z",
     "start_time": "2024-06-18T22:01:45.481582Z"
    }
   },
   "cell_type": "code",
   "source": "deaths_demographics.nunique()",
   "id": "5c292bb231247886",
   "outputs": [
    {
     "data": {
      "text/plain": [
       "_id              75\n",
       "Year of death     7\n",
       "Age_group         5\n",
       "Gender            4\n",
       "Count            31\n",
       "dtype: int64"
      ]
     },
     "execution_count": 21,
     "metadata": {},
     "output_type": "execute_result"
    }
   ],
   "execution_count": 21
  },
  {
   "metadata": {
    "ExecuteTime": {
     "end_time": "2024-06-18T22:01:49.020888Z",
     "start_time": "2024-06-18T22:01:49.010783Z"
    }
   },
   "cell_type": "code",
   "source": "deaths_monthly.nunique()",
   "id": "f4740c3b5d6b993",
   "outputs": [
    {
     "data": {
      "text/plain": [
       "_id               84\n",
       "Year of death      7\n",
       "Month of death    12\n",
       "Count             21\n",
       "dtype: int64"
      ]
     },
     "execution_count": 22,
     "metadata": {},
     "output_type": "execute_result"
    }
   ],
   "execution_count": 22
  },
  {
   "metadata": {
    "ExecuteTime": {
     "end_time": "2024-06-18T22:02:04.777048Z",
     "start_time": "2024-06-18T22:02:04.759763Z"
    }
   },
   "cell_type": "code",
   "source": [
    "# Check the descriptive statistics\n",
    "deaths_causes.describe()"
   ],
   "id": "4d38e7740df5bbb0",
   "outputs": [
    {
     "data": {
      "text/plain": [
       "              _id  Year of death       Count\n",
       "count  267.000000     267.000000  267.000000\n",
       "mean   134.000000    2020.026217    3.805243\n",
       "std     77.220464       1.916310    5.949623\n",
       "min      1.000000    2017.000000    1.000000\n",
       "25%     67.500000    2018.000000    1.000000\n",
       "50%    134.000000    2020.000000    2.000000\n",
       "75%    200.500000    2022.000000    3.500000\n",
       "max    267.000000    2023.000000   51.000000"
      ],
      "text/html": [
       "<div>\n",
       "<style scoped>\n",
       "    .dataframe tbody tr th:only-of-type {\n",
       "        vertical-align: middle;\n",
       "    }\n",
       "\n",
       "    .dataframe tbody tr th {\n",
       "        vertical-align: top;\n",
       "    }\n",
       "\n",
       "    .dataframe thead th {\n",
       "        text-align: right;\n",
       "    }\n",
       "</style>\n",
       "<table border=\"1\" class=\"dataframe\">\n",
       "  <thead>\n",
       "    <tr style=\"text-align: right;\">\n",
       "      <th></th>\n",
       "      <th>_id</th>\n",
       "      <th>Year of death</th>\n",
       "      <th>Count</th>\n",
       "    </tr>\n",
       "  </thead>\n",
       "  <tbody>\n",
       "    <tr>\n",
       "      <th>count</th>\n",
       "      <td>267.000000</td>\n",
       "      <td>267.000000</td>\n",
       "      <td>267.000000</td>\n",
       "    </tr>\n",
       "    <tr>\n",
       "      <th>mean</th>\n",
       "      <td>134.000000</td>\n",
       "      <td>2020.026217</td>\n",
       "      <td>3.805243</td>\n",
       "    </tr>\n",
       "    <tr>\n",
       "      <th>std</th>\n",
       "      <td>77.220464</td>\n",
       "      <td>1.916310</td>\n",
       "      <td>5.949623</td>\n",
       "    </tr>\n",
       "    <tr>\n",
       "      <th>min</th>\n",
       "      <td>1.000000</td>\n",
       "      <td>2017.000000</td>\n",
       "      <td>1.000000</td>\n",
       "    </tr>\n",
       "    <tr>\n",
       "      <th>25%</th>\n",
       "      <td>67.500000</td>\n",
       "      <td>2018.000000</td>\n",
       "      <td>1.000000</td>\n",
       "    </tr>\n",
       "    <tr>\n",
       "      <th>50%</th>\n",
       "      <td>134.000000</td>\n",
       "      <td>2020.000000</td>\n",
       "      <td>2.000000</td>\n",
       "    </tr>\n",
       "    <tr>\n",
       "      <th>75%</th>\n",
       "      <td>200.500000</td>\n",
       "      <td>2022.000000</td>\n",
       "      <td>3.500000</td>\n",
       "    </tr>\n",
       "    <tr>\n",
       "      <th>max</th>\n",
       "      <td>267.000000</td>\n",
       "      <td>2023.000000</td>\n",
       "      <td>51.000000</td>\n",
       "    </tr>\n",
       "  </tbody>\n",
       "</table>\n",
       "</div>"
      ]
     },
     "execution_count": 23,
     "metadata": {},
     "output_type": "execute_result"
    }
   ],
   "execution_count": 23
  },
  {
   "metadata": {
    "ExecuteTime": {
     "end_time": "2024-06-18T22:02:20.657135Z",
     "start_time": "2024-06-18T22:02:20.634994Z"
    }
   },
   "cell_type": "code",
   "source": "deaths_demographics.describe()",
   "id": "62a748c17ed7b445",
   "outputs": [
    {
     "data": {
      "text/plain": [
       "             _id  Year of death      Count\n",
       "count  75.000000      75.000000  75.000000\n",
       "mean   38.000000    2020.200000  13.733333\n",
       "std    21.794495       1.924241  16.414672\n",
       "min     1.000000    2017.000000   1.000000\n",
       "25%    19.500000    2019.000000   2.000000\n",
       "50%    38.000000    2020.000000   6.000000\n",
       "75%    56.500000    2022.000000  19.500000\n",
       "max    75.000000    2023.000000  70.000000"
      ],
      "text/html": [
       "<div>\n",
       "<style scoped>\n",
       "    .dataframe tbody tr th:only-of-type {\n",
       "        vertical-align: middle;\n",
       "    }\n",
       "\n",
       "    .dataframe tbody tr th {\n",
       "        vertical-align: top;\n",
       "    }\n",
       "\n",
       "    .dataframe thead th {\n",
       "        text-align: right;\n",
       "    }\n",
       "</style>\n",
       "<table border=\"1\" class=\"dataframe\">\n",
       "  <thead>\n",
       "    <tr style=\"text-align: right;\">\n",
       "      <th></th>\n",
       "      <th>_id</th>\n",
       "      <th>Year of death</th>\n",
       "      <th>Count</th>\n",
       "    </tr>\n",
       "  </thead>\n",
       "  <tbody>\n",
       "    <tr>\n",
       "      <th>count</th>\n",
       "      <td>75.000000</td>\n",
       "      <td>75.000000</td>\n",
       "      <td>75.000000</td>\n",
       "    </tr>\n",
       "    <tr>\n",
       "      <th>mean</th>\n",
       "      <td>38.000000</td>\n",
       "      <td>2020.200000</td>\n",
       "      <td>13.733333</td>\n",
       "    </tr>\n",
       "    <tr>\n",
       "      <th>std</th>\n",
       "      <td>21.794495</td>\n",
       "      <td>1.924241</td>\n",
       "      <td>16.414672</td>\n",
       "    </tr>\n",
       "    <tr>\n",
       "      <th>min</th>\n",
       "      <td>1.000000</td>\n",
       "      <td>2017.000000</td>\n",
       "      <td>1.000000</td>\n",
       "    </tr>\n",
       "    <tr>\n",
       "      <th>25%</th>\n",
       "      <td>19.500000</td>\n",
       "      <td>2019.000000</td>\n",
       "      <td>2.000000</td>\n",
       "    </tr>\n",
       "    <tr>\n",
       "      <th>50%</th>\n",
       "      <td>38.000000</td>\n",
       "      <td>2020.000000</td>\n",
       "      <td>6.000000</td>\n",
       "    </tr>\n",
       "    <tr>\n",
       "      <th>75%</th>\n",
       "      <td>56.500000</td>\n",
       "      <td>2022.000000</td>\n",
       "      <td>19.500000</td>\n",
       "    </tr>\n",
       "    <tr>\n",
       "      <th>max</th>\n",
       "      <td>75.000000</td>\n",
       "      <td>2023.000000</td>\n",
       "      <td>70.000000</td>\n",
       "    </tr>\n",
       "  </tbody>\n",
       "</table>\n",
       "</div>"
      ]
     },
     "execution_count": 24,
     "metadata": {},
     "output_type": "execute_result"
    }
   ],
   "execution_count": 24
  },
  {
   "metadata": {
    "ExecuteTime": {
     "end_time": "2024-06-18T22:02:23.666401Z",
     "start_time": "2024-06-18T22:02:23.645976Z"
    }
   },
   "cell_type": "code",
   "source": "deaths_monthly.describe()",
   "id": "e421a71662eb7e8",
   "outputs": [
    {
     "data": {
      "text/plain": [
       "             _id  Year of death      Count\n",
       "count  84.000000      84.000000  84.000000\n",
       "mean   42.500000    2020.000000  12.166667\n",
       "std    24.392622       2.012012   5.060676\n",
       "min     1.000000    2017.000000   1.000000\n",
       "25%    21.750000    2018.000000   8.000000\n",
       "50%    42.500000    2020.000000  11.000000\n",
       "75%    63.250000    2022.000000  15.000000\n",
       "max    84.000000    2023.000000  26.000000"
      ],
      "text/html": [
       "<div>\n",
       "<style scoped>\n",
       "    .dataframe tbody tr th:only-of-type {\n",
       "        vertical-align: middle;\n",
       "    }\n",
       "\n",
       "    .dataframe tbody tr th {\n",
       "        vertical-align: top;\n",
       "    }\n",
       "\n",
       "    .dataframe thead th {\n",
       "        text-align: right;\n",
       "    }\n",
       "</style>\n",
       "<table border=\"1\" class=\"dataframe\">\n",
       "  <thead>\n",
       "    <tr style=\"text-align: right;\">\n",
       "      <th></th>\n",
       "      <th>_id</th>\n",
       "      <th>Year of death</th>\n",
       "      <th>Count</th>\n",
       "    </tr>\n",
       "  </thead>\n",
       "  <tbody>\n",
       "    <tr>\n",
       "      <th>count</th>\n",
       "      <td>84.000000</td>\n",
       "      <td>84.000000</td>\n",
       "      <td>84.000000</td>\n",
       "    </tr>\n",
       "    <tr>\n",
       "      <th>mean</th>\n",
       "      <td>42.500000</td>\n",
       "      <td>2020.000000</td>\n",
       "      <td>12.166667</td>\n",
       "    </tr>\n",
       "    <tr>\n",
       "      <th>std</th>\n",
       "      <td>24.392622</td>\n",
       "      <td>2.012012</td>\n",
       "      <td>5.060676</td>\n",
       "    </tr>\n",
       "    <tr>\n",
       "      <th>min</th>\n",
       "      <td>1.000000</td>\n",
       "      <td>2017.000000</td>\n",
       "      <td>1.000000</td>\n",
       "    </tr>\n",
       "    <tr>\n",
       "      <th>25%</th>\n",
       "      <td>21.750000</td>\n",
       "      <td>2018.000000</td>\n",
       "      <td>8.000000</td>\n",
       "    </tr>\n",
       "    <tr>\n",
       "      <th>50%</th>\n",
       "      <td>42.500000</td>\n",
       "      <td>2020.000000</td>\n",
       "      <td>11.000000</td>\n",
       "    </tr>\n",
       "    <tr>\n",
       "      <th>75%</th>\n",
       "      <td>63.250000</td>\n",
       "      <td>2022.000000</td>\n",
       "      <td>15.000000</td>\n",
       "    </tr>\n",
       "    <tr>\n",
       "      <th>max</th>\n",
       "      <td>84.000000</td>\n",
       "      <td>2023.000000</td>\n",
       "      <td>26.000000</td>\n",
       "    </tr>\n",
       "  </tbody>\n",
       "</table>\n",
       "</div>"
      ]
     },
     "execution_count": 25,
     "metadata": {},
     "output_type": "execute_result"
    }
   ],
   "execution_count": 25
  },
  {
   "metadata": {
    "ExecuteTime": {
     "end_time": "2024-06-18T22:06:05.081574Z",
     "start_time": "2024-06-18T22:06:05.072023Z"
    }
   },
   "cell_type": "code",
   "source": [
    "# Check how many samples are there for each year\n",
    "deaths_causes['Year of death'].value_counts()"
   ],
   "id": "2ad0a3159caa66a",
   "outputs": [
    {
     "data": {
      "text/plain": [
       "Year of death\n",
       "2021    47\n",
       "2019    44\n",
       "2022    39\n",
       "2020    37\n",
       "2018    34\n",
       "2017    34\n",
       "2023    32\n",
       "Name: count, dtype: int64"
      ]
     },
     "execution_count": 30,
     "metadata": {},
     "output_type": "execute_result"
    }
   ],
   "execution_count": 30
  },
  {
   "metadata": {
    "ExecuteTime": {
     "end_time": "2024-06-18T22:07:26.949928Z",
     "start_time": "2024-06-18T22:07:26.941831Z"
    }
   },
   "cell_type": "code",
   "source": "deaths_demographics['Year of death'].value_counts()",
   "id": "8f58b99eef4d8dee",
   "outputs": [
    {
     "data": {
      "text/plain": [
       "Year of death\n",
       "2021    15\n",
       "2022    12\n",
       "2019    11\n",
       "2020    10\n",
       "2023    10\n",
       "2017     9\n",
       "2018     8\n",
       "Name: count, dtype: int64"
      ]
     },
     "execution_count": 31,
     "metadata": {},
     "output_type": "execute_result"
    }
   ],
   "execution_count": 31
  },
  {
   "metadata": {
    "ExecuteTime": {
     "end_time": "2024-06-18T22:07:30.986362Z",
     "start_time": "2024-06-18T22:07:30.977556Z"
    }
   },
   "cell_type": "code",
   "source": "deaths_monthly['Year of death'].value_counts()",
   "id": "250d42fe27d51071",
   "outputs": [
    {
     "data": {
      "text/plain": [
       "Year of death\n",
       "2022    12\n",
       "2023    12\n",
       "2017    12\n",
       "2021    12\n",
       "2018    12\n",
       "2019    12\n",
       "2020    12\n",
       "Name: count, dtype: int64"
      ]
     },
     "execution_count": 32,
     "metadata": {},
     "output_type": "execute_result"
    }
   ],
   "execution_count": 32
  },
  {
   "metadata": {},
   "cell_type": "markdown",
   "source": [
    "## Data Reporting\n",
    "Based on everything we asked, we are going to report the following:\n",
    "- The total of Rows each dataset has\n",
    "- The range of years each dataset has data for\n",
    "- The number of missing values for each dataset\n",
    "- The number of unique values for each dataset\n",
    "- The descriptive statistics for each dataset\n",
    "- The number of samples for each year\n",
    "- The columns of each dataset\n",
    "\n",
    "All this information will be printed into a file called \"DataReport.txt\""
   ],
   "id": "26ac9cd47badba68"
  },
  {
   "metadata": {
    "ExecuteTime": {
     "end_time": "2024-06-18T22:23:35.397673Z",
     "start_time": "2024-06-18T22:23:35.359081Z"
    }
   },
   "cell_type": "code",
   "source": [
    "def print_report_for_datasource(datasource):\n",
    "    file.write(f\"Total of Rows: {datasource.shape[0]}\\n\")\n",
    "    file.write(f\"Range of years: {datasource['Year of death'].min()} - {datasource['Year of death'].max()}\\n\\n\")\n",
    "    file.write(f\"Missing values:\\n{datasource.isnull().sum()}\\n\\n\")\n",
    "    file.write(f\"Unique values:\\n{datasource.nunique()}\\n\\n\")\n",
    "    file.write(f\"Descriptive statistics:\\n{datasource.describe()}\\n\\n\")\n",
    "    file.write(f\"Samples for each year:\\n{datasource['Year of death'].value_counts()}\\n\")\n",
    "    file.write(f\"Columns:\\n{datasource.columns}\\n\")\n",
    "\n",
    "\n",
    "# Create the report\n",
    "with open(\"DataReport.txt\", \"w\") as file:\n",
    "    file.write(\"# Deaths by causes dataset # \\n\\n\")\n",
    "    print_report_for_datasource(deaths_causes)\n",
    "    file.write(\"\\n\\n\")\n",
    "    print_report_for_datasource(deaths_demographics)\n",
    "    file.write(\"\\n\\n\")\n",
    "    file.write(\"# Deaths by monthly dataset #\\n\")\n",
    "    print_report_for_datasource(deaths_monthly)\n",
    "    "
   ],
   "id": "654463ba510fc385",
   "outputs": [],
   "execution_count": 39
  },
  {
   "metadata": {},
   "cell_type": "markdown",
   "source": "## Data Preparation",
   "id": "a48e89f7f5d23ecd"
  },
  {
   "metadata": {},
   "cell_type": "code",
   "outputs": [],
   "execution_count": null,
   "source": "# ",
   "id": "c585d69a1fdc6716"
  }
 ],
 "metadata": {
  "kernelspec": {
   "display_name": "Python 3",
   "language": "python",
   "name": "python3"
  },
  "language_info": {
   "codemirror_mode": {
    "name": "ipython",
    "version": 2
   },
   "file_extension": ".py",
   "mimetype": "text/x-python",
   "name": "python",
   "nbconvert_exporter": "python",
   "pygments_lexer": "ipython2",
   "version": "2.7.6"
  }
 },
 "nbformat": 4,
 "nbformat_minor": 5
}
