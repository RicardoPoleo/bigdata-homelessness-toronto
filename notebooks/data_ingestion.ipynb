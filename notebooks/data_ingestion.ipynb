{
 "cells": [
  {
   "metadata": {},
   "cell_type": "markdown",
   "source": [
    "# Considerations\n",
    "This notebook is intended to take the data from the folder `data` and prototype the code to feed the respective data sources (MongoDB, MariaDB, etc.). \n",
    "if you haven't already, please run the `src/config.py` file to set up the environment variables and the `scripts/download_data.py` to download the relevant data sources."
   ],
   "id": "129b547c531b992f"
  },
  {
   "cell_type": "code",
   "execution_count": null,
   "id": "initial_id",
   "metadata": {
    "collapsed": true
   },
   "outputs": [],
   "source": ""
  }
 ],
 "metadata": {
  "kernelspec": {
   "display_name": "Python 3",
   "language": "python",
   "name": "python3"
  },
  "language_info": {
   "codemirror_mode": {
    "name": "ipython",
    "version": 2
   },
   "file_extension": ".py",
   "mimetype": "text/x-python",
   "name": "python",
   "nbconvert_exporter": "python",
   "pygments_lexer": "ipython2",
   "version": "2.7.6"
  }
 },
 "nbformat": 4,
 "nbformat_minor": 5
}
