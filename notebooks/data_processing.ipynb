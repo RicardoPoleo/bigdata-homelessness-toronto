{
 "cells": [
  {
   "metadata": {},
   "cell_type": "markdown",
   "source": [
    "# Considerations\n",
    "This notebook is intended to take the data from the folder `data` and prototype the code to pre-process the data, assuming that we need to do it, if the sources are not clean enough, which doesn't seem to be the case for OpenCanada. However, if the need arises, we can use this notebook to prototype the code to pre-process the data. \n",
    "if you haven't already, please run the `src/config.py` file to set up the environment variables and the `scripts/download_data.py` to download the relevant data sources."
   ],
   "id": "47bf5b032eed50f4"
  },
  {
   "cell_type": "code",
   "execution_count": null,
   "id": "initial_id",
   "metadata": {
    "collapsed": true
   },
   "outputs": [],
   "source": [
    ""
   ]
  }
 ],
 "metadata": {
  "kernelspec": {
   "display_name": "Python 3",
   "language": "python",
   "name": "python3"
  },
  "language_info": {
   "codemirror_mode": {
    "name": "ipython",
    "version": 2
   },
   "file_extension": ".py",
   "mimetype": "text/x-python",
   "name": "python",
   "nbconvert_exporter": "python",
   "pygments_lexer": "ipython2",
   "version": "2.7.6"
  }
 },
 "nbformat": 4,
 "nbformat_minor": 5
}
