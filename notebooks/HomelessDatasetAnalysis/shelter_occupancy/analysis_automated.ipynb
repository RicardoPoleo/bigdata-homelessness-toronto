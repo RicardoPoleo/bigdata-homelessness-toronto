{
 "cells": [
  {
   "cell_type": "code",
   "id": "initial_id",
   "metadata": {
    "collapsed": true,
    "ExecuteTime": {
     "end_time": "2024-07-05T05:40:02.252814Z",
     "start_time": "2024-07-05T05:40:02.242138Z"
    }
   },
   "source": [
    "import os\n",
    "\n",
    "# Get the current path\n",
    "current_path = os.getcwd()\n",
    "project_folder = os.path.abspath(os.path.join(current_path, '..', '..', '..'))\n",
    "print(project_folder)"
   ],
   "outputs": [
    {
     "name": "stdout",
     "output_type": "stream",
     "text": [
      "C:\\projects\\BigData2Project\n"
     ]
    }
   ],
   "execution_count": 1
  },
  {
   "metadata": {
    "ExecuteTime": {
     "end_time": "2024-07-05T05:40:02.890017Z",
     "start_time": "2024-07-05T05:40:02.253821Z"
    }
   },
   "cell_type": "code",
   "source": [
    "# Import the class OpenToronto from Downloaders\n",
    "from Downloaders import OpenCanada as oc\n",
    "from Datasets import HomelessnessDataset as homelessDS\n",
    "\n",
    "# Create an instance of the OpenCanada class\n",
    "downloader = oc.TorontoDownloader()\n",
    "\n",
    "category = homelessDS.HomelessnessDataset()\n",
    "\n",
    "#We want to download only the urls of the dataset related to the deaths of people experiencing homelessness\n",
    "downloader.load_pages(category.get_urls_shelter_occupancy())\n",
    "downloader.get_datasets_info()\n",
    "\n",
    "download_folder = os.path.join(project_folder, 'data', 'raw', 'homeless', 'shelter_occupancy')\n",
    "downloader.download_datasets(output_directory=download_folder, if_exists='skip', extension='csv')"
   ],
   "id": "17e45876b13214cc",
   "outputs": [
    {
     "name": "stdout",
     "output_type": "stream",
     "text": [
      "[Downloader] Added 2 urls to the list.\n",
      "0) Page URL: https://open.toronto.ca/dataset/daily-shelter-occupancy/, Name: Daily shelter occupancy 2020, Last Modified: None, Type: CSV, Size: 0.00 MB, URL: https://ckan0.cf.opendata.inter.prod-toronto.ca/datastore/dump/800cc97f-34b3-4d4d-9bc1-6e2ce2d6f44a\n",
      "1) Page URL: https://open.toronto.ca/dataset/daily-shelter-occupancy/, Name: Daily shelter occupancy 2020.csv, Last Modified: 2023-05-03T17:16:37.261700, Type: CSV, Size: 6.89 MB, URL: https://ckan0.cf.opendata.inter.prod-toronto.ca/dataset/8a6eceb2-821b-4961-a29d-758f3087732d/resource/9e076fe4-2f86-48d7-a6e4-93710ca715ae/download/daily-shelter-occupancy-2020.csv\n",
      "2) Page URL: https://open.toronto.ca/dataset/daily-shelter-occupancy/, Name: Daily shelter occupancy 2020.xml, Last Modified: 2023-05-03T17:16:38.266318, Type: XML, Size: 22.11 MB, URL: https://ckan0.cf.opendata.inter.prod-toronto.ca/dataset/8a6eceb2-821b-4961-a29d-758f3087732d/resource/e0d6b638-83d0-49cf-8c2d-bbd9408b813c/download/daily-shelter-occupancy-2020.xml\n",
      "3) Page URL: https://open.toronto.ca/dataset/daily-shelter-occupancy/, Name: Daily shelter occupancy 2020.json, Last Modified: 2023-05-03T17:16:39.254549, Type: JSON, Size: 16.40 MB, URL: https://ckan0.cf.opendata.inter.prod-toronto.ca/dataset/8a6eceb2-821b-4961-a29d-758f3087732d/resource/22312aa5-bc44-4fa3-ab6a-45dddb44a29d/download/daily-shelter-occupancy-2020.json\n",
      "4) Page URL: https://open.toronto.ca/dataset/daily-shelter-occupancy/, Name: Daily shelter occupancy 2019, Last Modified: None, Type: CSV, Size: 0.00 MB, URL: https://ckan0.cf.opendata.inter.prod-toronto.ca/datastore/dump/49fafe18-9e07-4729-88bf-27fee5518b89\n",
      "5) Page URL: https://open.toronto.ca/dataset/daily-shelter-occupancy/, Name: Daily shelter occupancy 2019.csv, Last Modified: 2023-05-03T17:16:43.882826, Type: CSV, Size: 7.03 MB, URL: https://ckan0.cf.opendata.inter.prod-toronto.ca/dataset/8a6eceb2-821b-4961-a29d-758f3087732d/resource/3ea9d9ba-f05f-4055-bcc3-333f699c5e77/download/daily-shelter-occupancy-2019.csv\n",
      "6) Page URL: https://open.toronto.ca/dataset/daily-shelter-occupancy/, Name: Daily shelter occupancy 2019.xml, Last Modified: 2023-05-03T17:16:44.851297, Type: XML, Size: 21.65 MB, URL: https://ckan0.cf.opendata.inter.prod-toronto.ca/dataset/8a6eceb2-821b-4961-a29d-758f3087732d/resource/1e92583b-b449-4bc1-b24f-cb8d39d263a6/download/daily-shelter-occupancy-2019.xml\n",
      "7) Page URL: https://open.toronto.ca/dataset/daily-shelter-occupancy/, Name: Daily shelter occupancy 2019.json, Last Modified: 2023-05-03T17:16:45.824960, Type: JSON, Size: 16.17 MB, URL: https://ckan0.cf.opendata.inter.prod-toronto.ca/dataset/8a6eceb2-821b-4961-a29d-758f3087732d/resource/6a0cbfd9-f3f6-4138-8e1e-67e9ce0e026d/download/daily-shelter-occupancy-2019.json\n",
      "8) Page URL: https://open.toronto.ca/dataset/daily-shelter-occupancy/, Name: Daily shelter occupancy 2018, Last Modified: None, Type: CSV, Size: 0.00 MB, URL: https://ckan0.cf.opendata.inter.prod-toronto.ca/datastore/dump/c93028b7-d043-437c-a3ae-cde81b559ada\n",
      "9) Page URL: https://open.toronto.ca/dataset/daily-shelter-occupancy/, Name: Daily shelter occupancy 2018.csv, Last Modified: 2023-05-03T17:16:50.326022, Type: CSV, Size: 6.63 MB, URL: https://ckan0.cf.opendata.inter.prod-toronto.ca/dataset/8a6eceb2-821b-4961-a29d-758f3087732d/resource/af47a4d4-4339-446d-bf53-7983f78a80bc/download/daily-shelter-occupancy-2018.csv\n",
      "10) Page URL: https://open.toronto.ca/dataset/daily-shelter-occupancy/, Name: Daily shelter occupancy 2018.xml, Last Modified: 2023-05-03T17:16:51.267592, Type: XML, Size: 20.63 MB, URL: https://ckan0.cf.opendata.inter.prod-toronto.ca/dataset/8a6eceb2-821b-4961-a29d-758f3087732d/resource/fd8dbf54-c53d-41b9-80ac-5a0b3904d60e/download/daily-shelter-occupancy-2018.xml\n",
      "11) Page URL: https://open.toronto.ca/dataset/daily-shelter-occupancy/, Name: Daily shelter occupancy 2018.json, Last Modified: 2023-05-03T17:16:52.277359, Type: JSON, Size: 15.38 MB, URL: https://ckan0.cf.opendata.inter.prod-toronto.ca/dataset/8a6eceb2-821b-4961-a29d-758f3087732d/resource/8a95835d-fbf7-4105-9ea4-d7e568795349/download/daily-shelter-occupancy-2018.json\n",
      "12) Page URL: https://open.toronto.ca/dataset/daily-shelter-occupancy/, Name: Daily shelter occupancy 2017, Last Modified: None, Type: CSV, Size: 0.00 MB, URL: https://ckan0.cf.opendata.inter.prod-toronto.ca/datastore/dump/afe951ad-b0de-41af-bcc2-8635610626c4\n",
      "13) Page URL: https://open.toronto.ca/dataset/daily-shelter-occupancy/, Name: Daily shelter occupancy 2017.csv, Last Modified: 2023-05-03T17:16:56.870838, Type: CSV, Size: 6.90 MB, URL: https://ckan0.cf.opendata.inter.prod-toronto.ca/dataset/8a6eceb2-821b-4961-a29d-758f3087732d/resource/c07041d2-633f-43cf-8372-8133474bf4f4/download/daily-shelter-occupancy-2017.csv\n",
      "14) Page URL: https://open.toronto.ca/dataset/daily-shelter-occupancy/, Name: Daily shelter occupancy 2017.xml, Last Modified: 2023-05-03T17:16:57.787907, Type: XML, Size: 21.25 MB, URL: https://ckan0.cf.opendata.inter.prod-toronto.ca/dataset/8a6eceb2-821b-4961-a29d-758f3087732d/resource/f4b194ab-5b3e-48a9-ad7a-8dc29f97c3b8/download/daily-shelter-occupancy-2017.xml\n",
      "15) Page URL: https://open.toronto.ca/dataset/daily-shelter-occupancy/, Name: Daily shelter occupancy 2017.json, Last Modified: 2023-05-03T17:16:58.763402, Type: JSON, Size: 15.87 MB, URL: https://ckan0.cf.opendata.inter.prod-toronto.ca/dataset/8a6eceb2-821b-4961-a29d-758f3087732d/resource/8b9d1fc3-74a2-4a37-90b5-514e97a9fdbf/download/daily-shelter-occupancy-2017.json\n",
      "16) Page URL: https://open.toronto.ca/dataset/daily-shelter-overnight-service-occupancy-capacity/, Name: Daily shelter overnight occupancy, Last Modified: 2023-06-05T13:02:37.000582, Type: CSV, Size: 0.00 MB, URL: https://ckan0.cf.opendata.inter.prod-toronto.ca/datastore/dump/42714176-4f05-44e6-b157-2b57f29b856a\n",
      "17) Page URL: https://open.toronto.ca/dataset/daily-shelter-overnight-service-occupancy-capacity/, Name: daily-shelter-overnight-service-occupancy-capacity-2023, Last Modified: None, Type: CSV, Size: 0.00 MB, URL: https://ckan0.cf.opendata.inter.prod-toronto.ca/datastore/dump/62786156-b463-4c04-b286-c23f32c726ab\n",
      "18) Page URL: https://open.toronto.ca/dataset/daily-shelter-overnight-service-occupancy-capacity/, Name: daily-shelter-overnight-service-occupancy-capacity-2022, Last Modified: None, Type: CSV, Size: 0.00 MB, URL: https://ckan0.cf.opendata.inter.prod-toronto.ca/datastore/dump/1cc46acb-c6d3-4537-93ef-3ebad039275c\n",
      "19) Page URL: https://open.toronto.ca/dataset/daily-shelter-overnight-service-occupancy-capacity/, Name: daily-shelter-overnight-service-occupancy-capacity-2021, Last Modified: 2022-01-01T13:31:28, Type: CSV, Size: 0.00 MB, URL: https://ckan0.cf.opendata.inter.prod-toronto.ca/datastore/dump/da8854b8-e570-4de2-b051-a906b62fe7f8\n",
      "20) Page URL: https://open.toronto.ca/dataset/daily-shelter-overnight-service-occupancy-capacity/, Name: Daily shelter overnight occupancy.csv, Last Modified: 2024-07-04T13:34:53.949561, Type: CSV, Size: 6.82 MB, URL: https://ckan0.cf.opendata.inter.prod-toronto.ca/dataset/21c83b32-d5a8-4106-a54f-010dbe49f6f2/resource/ffd20867-6e3c-4074-8427-d63810edf231/download/daily-shelter-overnight-occupancy.csv\n",
      "21) Page URL: https://open.toronto.ca/dataset/daily-shelter-overnight-service-occupancy-capacity/, Name: Daily shelter overnight occupancy.xml, Last Modified: 2024-07-04T13:34:56.028467, Type: XML, Size: 30.25 MB, URL: https://ckan0.cf.opendata.inter.prod-toronto.ca/dataset/21c83b32-d5a8-4106-a54f-010dbe49f6f2/resource/b7c737e8-a1aa-4611-879e-b0644bb6ab6e/download/daily-shelter-overnight-occupancy.xml\n",
      "22) Page URL: https://open.toronto.ca/dataset/daily-shelter-overnight-service-occupancy-capacity/, Name: Daily shelter overnight occupancy.json, Last Modified: 2024-07-04T13:34:57.704595, Type: JSON, Size: 23.67 MB, URL: https://ckan0.cf.opendata.inter.prod-toronto.ca/dataset/21c83b32-d5a8-4106-a54f-010dbe49f6f2/resource/f3521f5c-6252-4bc6-aa3c-5513cd49dd64/download/daily-shelter-overnight-occupancy.json\n",
      "23) Page URL: https://open.toronto.ca/dataset/daily-shelter-overnight-service-occupancy-capacity/, Name: daily-shelter-overnight-service-occupancy-capacity-2022.csv, Last Modified: 2023-06-02T00:02:00.110794, Type: CSV, Size: 13.60 MB, URL: https://ckan0.cf.opendata.inter.prod-toronto.ca/dataset/21c83b32-d5a8-4106-a54f-010dbe49f6f2/resource/55d58477-50f5-490c-8da8-5953e3b26ca4/download/daily-shelter-overnight-service-occupancy-capacity-2022.csv\n",
      "24) Page URL: https://open.toronto.ca/dataset/daily-shelter-overnight-service-occupancy-capacity/, Name: daily-shelter-overnight-service-occupancy-capacity-2022.xml, Last Modified: 2023-06-02T00:02:01.204417, Type: XML, Size: 65.87 MB, URL: https://ckan0.cf.opendata.inter.prod-toronto.ca/dataset/21c83b32-d5a8-4106-a54f-010dbe49f6f2/resource/971ac281-9e52-4bf1-a5a2-ac701b8a707e/download/daily-shelter-overnight-service-occupancy-capacity-2022.xml\n",
      "25) Page URL: https://open.toronto.ca/dataset/daily-shelter-overnight-service-occupancy-capacity/, Name: daily-shelter-overnight-service-occupancy-capacity-2022.json, Last Modified: 2023-06-02T00:02:02.487189, Type: JSON, Size: 46.67 MB, URL: https://ckan0.cf.opendata.inter.prod-toronto.ca/dataset/21c83b32-d5a8-4106-a54f-010dbe49f6f2/resource/c6178e35-e36f-4ee0-8fd0-a584f3ba056c/download/daily-shelter-overnight-service-occupancy-capacity-2022.json\n",
      "26) Page URL: https://open.toronto.ca/dataset/daily-shelter-overnight-service-occupancy-capacity/, Name: daily-shelter-overnight-service-occupancy-capacity-2021.csv, Last Modified: 2023-06-02T00:01:48.755115, Type: CSV, Size: 14.00 MB, URL: https://ckan0.cf.opendata.inter.prod-toronto.ca/dataset/21c83b32-d5a8-4106-a54f-010dbe49f6f2/resource/df7d621d-a7a0-4854-81b9-8a6dc29d73a6/download/daily-shelter-overnight-service-occupancy-capacity-2021.csv\n",
      "27) Page URL: https://open.toronto.ca/dataset/daily-shelter-overnight-service-occupancy-capacity/, Name: daily-shelter-overnight-service-occupancy-capacity-2021.xml, Last Modified: 2023-06-02T00:01:49.808795, Type: XML, Size: 67.82 MB, URL: https://ckan0.cf.opendata.inter.prod-toronto.ca/dataset/21c83b32-d5a8-4106-a54f-010dbe49f6f2/resource/44ca17bb-5697-445b-8ae5-5970508d66a9/download/daily-shelter-overnight-service-occupancy-capacity-2021.xml\n",
      "28) Page URL: https://open.toronto.ca/dataset/daily-shelter-overnight-service-occupancy-capacity/, Name: daily-shelter-overnight-service-occupancy-capacity-2021.json, Last Modified: 2023-06-02T00:01:50.984856, Type: JSON, Size: 48.05 MB, URL: https://ckan0.cf.opendata.inter.prod-toronto.ca/dataset/21c83b32-d5a8-4106-a54f-010dbe49f6f2/resource/632f35d4-1504-4ac3-83fb-11b9fe93d903/download/daily-shelter-overnight-service-occupancy-capacity-2021.json\n",
      "29) Page URL: https://open.toronto.ca/dataset/daily-shelter-overnight-service-occupancy-capacity/, Name: daily-shelter-overnight-service-occupancy-capacity-2023.csv, Last Modified: 2024-01-15T18:22:28.558741, Type: CSV, Size: 13.74 MB, URL: https://ckan0.cf.opendata.inter.prod-toronto.ca/dataset/21c83b32-d5a8-4106-a54f-010dbe49f6f2/resource/79723018-8dc7-4cd4-8fb4-8652376ea531/download/daily-shelter-overnight-service-occupancy-capacity-2023.csv\n",
      "30) Page URL: https://open.toronto.ca/dataset/daily-shelter-overnight-service-occupancy-capacity/, Name: daily-shelter-overnight-service-occupancy-capacity-2023.xml, Last Modified: 2024-01-15T18:22:29.953944, Type: XML, Size: 64.81 MB, URL: https://ckan0.cf.opendata.inter.prod-toronto.ca/dataset/21c83b32-d5a8-4106-a54f-010dbe49f6f2/resource/95326fc3-5f7d-4540-8a81-5dfd282bc147/download/daily-shelter-overnight-service-occupancy-capacity-2023.xml\n",
      "31) Page URL: https://open.toronto.ca/dataset/daily-shelter-overnight-service-occupancy-capacity/, Name: daily-shelter-overnight-service-occupancy-capacity-2023.json, Last Modified: 2024-01-15T18:22:31.897397, Type: JSON, Size: 46.06 MB, URL: https://ckan0.cf.opendata.inter.prod-toronto.ca/dataset/21c83b32-d5a8-4106-a54f-010dbe49f6f2/resource/38c5f6ee-d372-4673-983f-7d20b693dee6/download/daily-shelter-overnight-service-occupancy-capacity-2023.json\n",
      "Skipping Daily shelter occupancy 2020.xml with format XML\n",
      "Skipping Daily shelter occupancy 2020.json with format JSON\n",
      "Skipping Daily shelter occupancy 2019.xml with format XML\n",
      "Skipping Daily shelter occupancy 2019.json with format JSON\n",
      "Skipping Daily shelter occupancy 2018.xml with format XML\n",
      "Skipping Daily shelter occupancy 2018.json with format JSON\n",
      "Skipping Daily shelter occupancy 2017.xml with format XML\n",
      "Skipping Daily shelter occupancy 2017.json with format JSON\n",
      "Skipping Daily shelter overnight occupancy.xml with format XML\n",
      "Skipping Daily shelter overnight occupancy.json with format JSON\n",
      "Skipping daily-shelter-overnight-service-occupancy-capacity-2022.xml with format XML\n",
      "Skipping daily-shelter-overnight-service-occupancy-capacity-2022.json with format JSON\n",
      "Skipping daily-shelter-overnight-service-occupancy-capacity-2021.xml with format XML\n",
      "Skipping daily-shelter-overnight-service-occupancy-capacity-2021.json with format JSON\n",
      "Skipping daily-shelter-overnight-service-occupancy-capacity-2023.xml with format XML\n",
      "Skipping daily-shelter-overnight-service-occupancy-capacity-2023.json with format JSON\n",
      "[Downloader] Downloading: 'Daily shelter occupancy 2020' (0.00 MB) in folder 'daily-shelter-occupancy'.\n",
      "[SKIP] Skipping download, file already exists: 800cc97f-34b3-4d4d-9bc1-6e2ce2d6f44a\n",
      "[Downloader] Downloaded: 'Daily shelter occupancy 2020' (0.00 MB) in folder 'daily-shelter-occupancy'.\n",
      "[Downloader] Downloading: 'Daily shelter occupancy 2020.csv' (6.89 MB) in folder 'daily-shelter-occupancy'.\n",
      "[SKIP] Skipping download, file already exists: daily-shelter-occupancy-2020.csv\n",
      "[Downloader] Downloaded: 'Daily shelter occupancy 2020.csv' (6.89 MB) in folder 'daily-shelter-occupancy'.\n",
      "[Downloader] Downloading: 'Daily shelter occupancy 2019' (0.00 MB) in folder 'daily-shelter-occupancy'.\n",
      "[SKIP] Skipping download, file already exists: 49fafe18-9e07-4729-88bf-27fee5518b89\n",
      "[Downloader] Downloaded: 'Daily shelter occupancy 2019' (0.00 MB) in folder 'daily-shelter-occupancy'.\n",
      "[Downloader] Downloading: 'Daily shelter occupancy 2019.csv' (7.03 MB) in folder 'daily-shelter-occupancy'.\n",
      "[SKIP] Skipping download, file already exists: daily-shelter-occupancy-2019.csv\n",
      "[Downloader] Downloaded: 'Daily shelter occupancy 2019.csv' (7.03 MB) in folder 'daily-shelter-occupancy'.\n",
      "[Downloader] Downloading: 'Daily shelter occupancy 2018' (0.00 MB) in folder 'daily-shelter-occupancy'.\n",
      "[SKIP] Skipping download, file already exists: c93028b7-d043-437c-a3ae-cde81b559ada\n",
      "[Downloader] Downloaded: 'Daily shelter occupancy 2018' (0.00 MB) in folder 'daily-shelter-occupancy'.\n",
      "[Downloader] Downloading: 'Daily shelter occupancy 2018.csv' (6.63 MB) in folder 'daily-shelter-occupancy'.\n",
      "[SKIP] Skipping download, file already exists: daily-shelter-occupancy-2018.csv\n",
      "[Downloader] Downloaded: 'Daily shelter occupancy 2018.csv' (6.63 MB) in folder 'daily-shelter-occupancy'.\n",
      "[Downloader] Downloading: 'Daily shelter occupancy 2017' (0.00 MB) in folder 'daily-shelter-occupancy'.\n",
      "[SKIP] Skipping download, file already exists: afe951ad-b0de-41af-bcc2-8635610626c4\n",
      "[Downloader] Downloaded: 'Daily shelter occupancy 2017' (0.00 MB) in folder 'daily-shelter-occupancy'.\n",
      "[Downloader] Downloading: 'Daily shelter occupancy 2017.csv' (6.90 MB) in folder 'daily-shelter-occupancy'.\n",
      "[SKIP] Skipping download, file already exists: daily-shelter-occupancy-2017.csv\n",
      "[Downloader] Downloaded: 'Daily shelter occupancy 2017.csv' (6.90 MB) in folder 'daily-shelter-occupancy'.\n",
      "[Downloader] Downloading: 'Daily shelter overnight occupancy' (0.00 MB) in folder 'daily-shelter-overnight-service-occupancy-capacity'.\n",
      "[SKIP] Skipping download, file already exists: 42714176-4f05-44e6-b157-2b57f29b856a\n",
      "[Downloader] Downloaded: 'Daily shelter overnight occupancy' (0.00 MB) in folder 'daily-shelter-overnight-service-occupancy-capacity'.\n",
      "[Downloader] Downloading: 'daily-shelter-overnight-service-occupancy-capacity-2023' (0.00 MB) in folder 'daily-shelter-overnight-service-occupancy-capacity'.\n",
      "[SKIP] Skipping download, file already exists: 62786156-b463-4c04-b286-c23f32c726ab\n",
      "[Downloader] Downloaded: 'daily-shelter-overnight-service-occupancy-capacity-2023' (0.00 MB) in folder 'daily-shelter-overnight-service-occupancy-capacity'.\n",
      "[Downloader] Downloading: 'daily-shelter-overnight-service-occupancy-capacity-2022' (0.00 MB) in folder 'daily-shelter-overnight-service-occupancy-capacity'.\n",
      "[SKIP] Skipping download, file already exists: 1cc46acb-c6d3-4537-93ef-3ebad039275c\n",
      "[Downloader] Downloaded: 'daily-shelter-overnight-service-occupancy-capacity-2022' (0.00 MB) in folder 'daily-shelter-overnight-service-occupancy-capacity'.\n",
      "[Downloader] Downloading: 'daily-shelter-overnight-service-occupancy-capacity-2021' (0.00 MB) in folder 'daily-shelter-overnight-service-occupancy-capacity'.\n",
      "[SKIP] Skipping download, file already exists: da8854b8-e570-4de2-b051-a906b62fe7f8\n",
      "[Downloader] Downloaded: 'daily-shelter-overnight-service-occupancy-capacity-2021' (0.00 MB) in folder 'daily-shelter-overnight-service-occupancy-capacity'.\n",
      "[Downloader] Downloading: 'Daily shelter overnight occupancy.csv' (6.82 MB) in folder 'daily-shelter-overnight-service-occupancy-capacity'.\n",
      "[SKIP] Skipping download, file already exists: daily-shelter-overnight-occupancy.csv\n",
      "[Downloader] Downloaded: 'Daily shelter overnight occupancy.csv' (6.82 MB) in folder 'daily-shelter-overnight-service-occupancy-capacity'.\n",
      "[Downloader] Downloading: 'daily-shelter-overnight-service-occupancy-capacity-2022.csv' (13.60 MB) in folder 'daily-shelter-overnight-service-occupancy-capacity'.\n",
      "[SKIP] Skipping download, file already exists: daily-shelter-overnight-service-occupancy-capacity-2022.csv\n",
      "[Downloader] Downloaded: 'daily-shelter-overnight-service-occupancy-capacity-2022.csv' (13.60 MB) in folder 'daily-shelter-overnight-service-occupancy-capacity'.\n",
      "[Downloader] Downloading: 'daily-shelter-overnight-service-occupancy-capacity-2021.csv' (14.00 MB) in folder 'daily-shelter-overnight-service-occupancy-capacity'.\n",
      "[SKIP] Skipping download, file already exists: daily-shelter-overnight-service-occupancy-capacity-2021.csv\n",
      "[Downloader] Downloaded: 'daily-shelter-overnight-service-occupancy-capacity-2021.csv' (14.00 MB) in folder 'daily-shelter-overnight-service-occupancy-capacity'.\n",
      "[Downloader] Downloading: 'daily-shelter-overnight-service-occupancy-capacity-2023.csv' (13.74 MB) in folder 'daily-shelter-overnight-service-occupancy-capacity'.\n",
      "[SKIP] Skipping download, file already exists: daily-shelter-overnight-service-occupancy-capacity-2023.csv\n",
      "[Downloader] Downloaded: 'daily-shelter-overnight-service-occupancy-capacity-2023.csv' (13.74 MB) in folder 'daily-shelter-overnight-service-occupancy-capacity'.\n",
      "\n",
      "\n",
      "This is the list of downloaded paths and destinations:\n",
      "'800cc97f-34b3-4d4d-9bc1-6e2ce2d6f44a':'C:\\projects\\BigData2Project\\data\\raw\\homeless\\shelter_occupancy\\daily-shelter-occupancy\\800cc97f-34b3-4d4d-9bc1-6e2ce2d6f44a'\n",
      "'daily-shelter-occupancy-2020.csv':'C:\\projects\\BigData2Project\\data\\raw\\homeless\\shelter_occupancy\\daily-shelter-occupancy\\daily-shelter-occupancy-2020.csv'\n",
      "'49fafe18-9e07-4729-88bf-27fee5518b89':'C:\\projects\\BigData2Project\\data\\raw\\homeless\\shelter_occupancy\\daily-shelter-occupancy\\49fafe18-9e07-4729-88bf-27fee5518b89'\n",
      "'daily-shelter-occupancy-2019.csv':'C:\\projects\\BigData2Project\\data\\raw\\homeless\\shelter_occupancy\\daily-shelter-occupancy\\daily-shelter-occupancy-2019.csv'\n",
      "'c93028b7-d043-437c-a3ae-cde81b559ada':'C:\\projects\\BigData2Project\\data\\raw\\homeless\\shelter_occupancy\\daily-shelter-occupancy\\c93028b7-d043-437c-a3ae-cde81b559ada'\n",
      "'daily-shelter-occupancy-2018.csv':'C:\\projects\\BigData2Project\\data\\raw\\homeless\\shelter_occupancy\\daily-shelter-occupancy\\daily-shelter-occupancy-2018.csv'\n",
      "'afe951ad-b0de-41af-bcc2-8635610626c4':'C:\\projects\\BigData2Project\\data\\raw\\homeless\\shelter_occupancy\\daily-shelter-occupancy\\afe951ad-b0de-41af-bcc2-8635610626c4'\n",
      "'daily-shelter-occupancy-2017.csv':'C:\\projects\\BigData2Project\\data\\raw\\homeless\\shelter_occupancy\\daily-shelter-occupancy\\daily-shelter-occupancy-2017.csv'\n",
      "'42714176-4f05-44e6-b157-2b57f29b856a':'C:\\projects\\BigData2Project\\data\\raw\\homeless\\shelter_occupancy\\daily-shelter-overnight-service-occupancy-capacity\\42714176-4f05-44e6-b157-2b57f29b856a'\n",
      "'62786156-b463-4c04-b286-c23f32c726ab':'C:\\projects\\BigData2Project\\data\\raw\\homeless\\shelter_occupancy\\daily-shelter-overnight-service-occupancy-capacity\\62786156-b463-4c04-b286-c23f32c726ab'\n",
      "'1cc46acb-c6d3-4537-93ef-3ebad039275c':'C:\\projects\\BigData2Project\\data\\raw\\homeless\\shelter_occupancy\\daily-shelter-overnight-service-occupancy-capacity\\1cc46acb-c6d3-4537-93ef-3ebad039275c'\n",
      "'da8854b8-e570-4de2-b051-a906b62fe7f8':'C:\\projects\\BigData2Project\\data\\raw\\homeless\\shelter_occupancy\\daily-shelter-overnight-service-occupancy-capacity\\da8854b8-e570-4de2-b051-a906b62fe7f8'\n",
      "'daily-shelter-overnight-occupancy.csv':'C:\\projects\\BigData2Project\\data\\raw\\homeless\\shelter_occupancy\\daily-shelter-overnight-service-occupancy-capacity\\daily-shelter-overnight-occupancy.csv'\n",
      "'daily-shelter-overnight-service-occupancy-capacity-2022.csv':'C:\\projects\\BigData2Project\\data\\raw\\homeless\\shelter_occupancy\\daily-shelter-overnight-service-occupancy-capacity\\daily-shelter-overnight-service-occupancy-capacity-2022.csv'\n",
      "'daily-shelter-overnight-service-occupancy-capacity-2021.csv':'C:\\projects\\BigData2Project\\data\\raw\\homeless\\shelter_occupancy\\daily-shelter-overnight-service-occupancy-capacity\\daily-shelter-overnight-service-occupancy-capacity-2021.csv'\n",
      "'daily-shelter-overnight-service-occupancy-capacity-2023.csv':'C:\\projects\\BigData2Project\\data\\raw\\homeless\\shelter_occupancy\\daily-shelter-overnight-service-occupancy-capacity\\daily-shelter-overnight-service-occupancy-capacity-2023.csv'\n",
      "\n",
      "\n",
      "[Downloader] Finished downloading 16 urls.\n"
     ]
    }
   ],
   "execution_count": 2
  },
  {
   "metadata": {
    "ExecuteTime": {
     "end_time": "2024-07-05T05:20:34.932008Z",
     "start_time": "2024-07-05T05:20:33.851741Z"
    }
   },
   "cell_type": "code",
   "source": [
    "import pandas as pd\n",
    "from Datasets import Datasets as ds\n",
    "\n",
    "filename = \"daily-shelter-occupancy-2020.csv\"\n",
    "data_shelter_occupancy_2020 = pd.read_csv(downloader.get_path_for_downloaded_file(filename))\n",
    "print(f\"Shape: {data_shelter_occupancy_2020.shape}\")\n",
    "dataset_checker = ds.DatasetCheck(data_shelter_occupancy_2020)\n",
    "dataset_checker.standardize_categorical_values()\n",
    "dataset_check_results = dataset_checker.perform_checks()\n",
    "report = dataset_check_results.get_report()"
   ],
   "id": "db56c6e71677391a",
   "outputs": [
    {
     "name": "stdout",
     "output_type": "stream",
     "text": [
      "Shape: (41061, 13)\n",
      "No missing values were found in the dataset.\n",
      "No duplicate records were found.\n",
      "No significant outliers were found in the 'Count' column.\n",
      "Total of lowercase issues: 41061. First 150 characters: OCCUPANCY_DATE: [0, 1, 2, 3, 4, 5, 6, 7, 8, 9, 10, 11, 12, 13, 14, 15, 16, 17, 18, 19, 20, 21, 22, 23, 24, 25, 26, 27, 28, 29, 30, 31, 32, 33, 34, 35,\n",
      "No categorical consistency issues were found in the dataset.\n",
      "No columns with all missing values found in the dataset.\n"
     ]
    }
   ],
   "execution_count": 3
  },
  {
   "metadata": {
    "ExecuteTime": {
     "end_time": "2024-07-05T05:23:51.385720Z",
     "start_time": "2024-07-05T05:23:49.166229Z"
    }
   },
   "cell_type": "code",
   "source": [
    "\n",
    "# Create an instance of the DatasetPreProcessing class\n",
    "dataset_preprocessor = ds.DatasetPreProcessing(data_shelter_occupancy_2020, dataset_check_results)\n",
    "\n",
    "# Perform the pre-processing steps based on the check result\n",
    "preprocessed_data = dataset_preprocessor.preprocess()\n",
    "\n"
   ],
   "id": "69fac2365c8e0b35",
   "outputs": [
    {
     "ename": "OSError",
     "evalue": "Cannot save file into a non-existent directory: 'C:\\projects\\BigData2Project\\data\\´pre_processed\\homeless\\shelter_occupancy'",
     "output_type": "error",
     "traceback": [
      "\u001B[1;31m---------------------------------------------------------------------------\u001B[0m",
      "\u001B[1;31mOSError\u001B[0m                                   Traceback (most recent call last)",
      "Cell \u001B[1;32mIn[4], line 9\u001B[0m\n\u001B[0;32m      7\u001B[0m \u001B[38;5;66;03m# Save the pre-processed data\u001B[39;00m\n\u001B[0;32m      8\u001B[0m preprocessed_file \u001B[38;5;241m=\u001B[39m os\u001B[38;5;241m.\u001B[39mpath\u001B[38;5;241m.\u001B[39mjoin(project_folder, \u001B[38;5;124m'\u001B[39m\u001B[38;5;124mdata\u001B[39m\u001B[38;5;124m'\u001B[39m, \u001B[38;5;124m'\u001B[39m\u001B[38;5;124m´pre_processed\u001B[39m\u001B[38;5;124m'\u001B[39m, \u001B[38;5;124m'\u001B[39m\u001B[38;5;124mhomeless\u001B[39m\u001B[38;5;124m'\u001B[39m, \u001B[38;5;124m'\u001B[39m\u001B[38;5;124mshelter_occupancy\u001B[39m\u001B[38;5;124m'\u001B[39m, filename)\n\u001B[1;32m----> 9\u001B[0m dataset_preprocessor\u001B[38;5;241m.\u001B[39msave_preprocessed_data(preprocessed_file)\n",
      "File \u001B[1;32mC:\\projects\\BigData2Project\\Datasets\\Datasets.py:316\u001B[0m, in \u001B[0;36mDatasetPreProcessing.save_preprocessed_data\u001B[1;34m(self, file_path)\u001B[0m\n\u001B[0;32m    312\u001B[0m \u001B[38;5;28;01mdef\u001B[39;00m \u001B[38;5;21msave_preprocessed_data\u001B[39m(\u001B[38;5;28mself\u001B[39m, file_path):\n\u001B[0;32m    313\u001B[0m \u001B[38;5;250m    \u001B[39m\u001B[38;5;124;03m\"\"\"\u001B[39;00m\n\u001B[0;32m    314\u001B[0m \u001B[38;5;124;03m    Save the pre-processed dataset to a specified file path\u001B[39;00m\n\u001B[0;32m    315\u001B[0m \u001B[38;5;124;03m    \"\"\"\u001B[39;00m\n\u001B[1;32m--> 316\u001B[0m     \u001B[38;5;28mself\u001B[39m\u001B[38;5;241m.\u001B[39mdataset\u001B[38;5;241m.\u001B[39mto_csv(file_path, index\u001B[38;5;241m=\u001B[39m\u001B[38;5;28;01mFalse\u001B[39;00m)\n\u001B[0;32m    317\u001B[0m     \u001B[38;5;28mprint\u001B[39m(\u001B[38;5;124mf\u001B[39m\u001B[38;5;124m\"\u001B[39m\u001B[38;5;124mPre-processed data saved to \u001B[39m\u001B[38;5;132;01m{\u001B[39;00mfile_path\u001B[38;5;132;01m}\u001B[39;00m\u001B[38;5;124m\"\u001B[39m)\n",
      "File \u001B[1;32mC:\\ProgramData\\anaconda3\\envs\\BigData2Project\\Lib\\site-packages\\pandas\\util\\_decorators.py:333\u001B[0m, in \u001B[0;36mdeprecate_nonkeyword_arguments.<locals>.decorate.<locals>.wrapper\u001B[1;34m(*args, **kwargs)\u001B[0m\n\u001B[0;32m    327\u001B[0m \u001B[38;5;28;01mif\u001B[39;00m \u001B[38;5;28mlen\u001B[39m(args) \u001B[38;5;241m>\u001B[39m num_allow_args:\n\u001B[0;32m    328\u001B[0m     warnings\u001B[38;5;241m.\u001B[39mwarn(\n\u001B[0;32m    329\u001B[0m         msg\u001B[38;5;241m.\u001B[39mformat(arguments\u001B[38;5;241m=\u001B[39m_format_argument_list(allow_args)),\n\u001B[0;32m    330\u001B[0m         \u001B[38;5;167;01mFutureWarning\u001B[39;00m,\n\u001B[0;32m    331\u001B[0m         stacklevel\u001B[38;5;241m=\u001B[39mfind_stack_level(),\n\u001B[0;32m    332\u001B[0m     )\n\u001B[1;32m--> 333\u001B[0m \u001B[38;5;28;01mreturn\u001B[39;00m func(\u001B[38;5;241m*\u001B[39margs, \u001B[38;5;241m*\u001B[39m\u001B[38;5;241m*\u001B[39mkwargs)\n",
      "File \u001B[1;32mC:\\ProgramData\\anaconda3\\envs\\BigData2Project\\Lib\\site-packages\\pandas\\core\\generic.py:3967\u001B[0m, in \u001B[0;36mNDFrame.to_csv\u001B[1;34m(self, path_or_buf, sep, na_rep, float_format, columns, header, index, index_label, mode, encoding, compression, quoting, quotechar, lineterminator, chunksize, date_format, doublequote, escapechar, decimal, errors, storage_options)\u001B[0m\n\u001B[0;32m   3956\u001B[0m df \u001B[38;5;241m=\u001B[39m \u001B[38;5;28mself\u001B[39m \u001B[38;5;28;01mif\u001B[39;00m \u001B[38;5;28misinstance\u001B[39m(\u001B[38;5;28mself\u001B[39m, ABCDataFrame) \u001B[38;5;28;01melse\u001B[39;00m \u001B[38;5;28mself\u001B[39m\u001B[38;5;241m.\u001B[39mto_frame()\n\u001B[0;32m   3958\u001B[0m formatter \u001B[38;5;241m=\u001B[39m DataFrameFormatter(\n\u001B[0;32m   3959\u001B[0m     frame\u001B[38;5;241m=\u001B[39mdf,\n\u001B[0;32m   3960\u001B[0m     header\u001B[38;5;241m=\u001B[39mheader,\n\u001B[1;32m   (...)\u001B[0m\n\u001B[0;32m   3964\u001B[0m     decimal\u001B[38;5;241m=\u001B[39mdecimal,\n\u001B[0;32m   3965\u001B[0m )\n\u001B[1;32m-> 3967\u001B[0m \u001B[38;5;28;01mreturn\u001B[39;00m DataFrameRenderer(formatter)\u001B[38;5;241m.\u001B[39mto_csv(\n\u001B[0;32m   3968\u001B[0m     path_or_buf,\n\u001B[0;32m   3969\u001B[0m     lineterminator\u001B[38;5;241m=\u001B[39mlineterminator,\n\u001B[0;32m   3970\u001B[0m     sep\u001B[38;5;241m=\u001B[39msep,\n\u001B[0;32m   3971\u001B[0m     encoding\u001B[38;5;241m=\u001B[39mencoding,\n\u001B[0;32m   3972\u001B[0m     errors\u001B[38;5;241m=\u001B[39merrors,\n\u001B[0;32m   3973\u001B[0m     compression\u001B[38;5;241m=\u001B[39mcompression,\n\u001B[0;32m   3974\u001B[0m     quoting\u001B[38;5;241m=\u001B[39mquoting,\n\u001B[0;32m   3975\u001B[0m     columns\u001B[38;5;241m=\u001B[39mcolumns,\n\u001B[0;32m   3976\u001B[0m     index_label\u001B[38;5;241m=\u001B[39mindex_label,\n\u001B[0;32m   3977\u001B[0m     mode\u001B[38;5;241m=\u001B[39mmode,\n\u001B[0;32m   3978\u001B[0m     chunksize\u001B[38;5;241m=\u001B[39mchunksize,\n\u001B[0;32m   3979\u001B[0m     quotechar\u001B[38;5;241m=\u001B[39mquotechar,\n\u001B[0;32m   3980\u001B[0m     date_format\u001B[38;5;241m=\u001B[39mdate_format,\n\u001B[0;32m   3981\u001B[0m     doublequote\u001B[38;5;241m=\u001B[39mdoublequote,\n\u001B[0;32m   3982\u001B[0m     escapechar\u001B[38;5;241m=\u001B[39mescapechar,\n\u001B[0;32m   3983\u001B[0m     storage_options\u001B[38;5;241m=\u001B[39mstorage_options,\n\u001B[0;32m   3984\u001B[0m )\n",
      "File \u001B[1;32mC:\\ProgramData\\anaconda3\\envs\\BigData2Project\\Lib\\site-packages\\pandas\\io\\formats\\format.py:1014\u001B[0m, in \u001B[0;36mDataFrameRenderer.to_csv\u001B[1;34m(self, path_or_buf, encoding, sep, columns, index_label, mode, compression, quoting, quotechar, lineterminator, chunksize, date_format, doublequote, escapechar, errors, storage_options)\u001B[0m\n\u001B[0;32m    993\u001B[0m     created_buffer \u001B[38;5;241m=\u001B[39m \u001B[38;5;28;01mFalse\u001B[39;00m\n\u001B[0;32m    995\u001B[0m csv_formatter \u001B[38;5;241m=\u001B[39m CSVFormatter(\n\u001B[0;32m    996\u001B[0m     path_or_buf\u001B[38;5;241m=\u001B[39mpath_or_buf,\n\u001B[0;32m    997\u001B[0m     lineterminator\u001B[38;5;241m=\u001B[39mlineterminator,\n\u001B[1;32m   (...)\u001B[0m\n\u001B[0;32m   1012\u001B[0m     formatter\u001B[38;5;241m=\u001B[39m\u001B[38;5;28mself\u001B[39m\u001B[38;5;241m.\u001B[39mfmt,\n\u001B[0;32m   1013\u001B[0m )\n\u001B[1;32m-> 1014\u001B[0m csv_formatter\u001B[38;5;241m.\u001B[39msave()\n\u001B[0;32m   1016\u001B[0m \u001B[38;5;28;01mif\u001B[39;00m created_buffer:\n\u001B[0;32m   1017\u001B[0m     \u001B[38;5;28;01massert\u001B[39;00m \u001B[38;5;28misinstance\u001B[39m(path_or_buf, StringIO)\n",
      "File \u001B[1;32mC:\\ProgramData\\anaconda3\\envs\\BigData2Project\\Lib\\site-packages\\pandas\\io\\formats\\csvs.py:251\u001B[0m, in \u001B[0;36mCSVFormatter.save\u001B[1;34m(self)\u001B[0m\n\u001B[0;32m    247\u001B[0m \u001B[38;5;250m\u001B[39m\u001B[38;5;124;03m\"\"\"\u001B[39;00m\n\u001B[0;32m    248\u001B[0m \u001B[38;5;124;03mCreate the writer & save.\u001B[39;00m\n\u001B[0;32m    249\u001B[0m \u001B[38;5;124;03m\"\"\"\u001B[39;00m\n\u001B[0;32m    250\u001B[0m \u001B[38;5;66;03m# apply compression and byte/text conversion\u001B[39;00m\n\u001B[1;32m--> 251\u001B[0m \u001B[38;5;28;01mwith\u001B[39;00m get_handle(\n\u001B[0;32m    252\u001B[0m     \u001B[38;5;28mself\u001B[39m\u001B[38;5;241m.\u001B[39mfilepath_or_buffer,\n\u001B[0;32m    253\u001B[0m     \u001B[38;5;28mself\u001B[39m\u001B[38;5;241m.\u001B[39mmode,\n\u001B[0;32m    254\u001B[0m     encoding\u001B[38;5;241m=\u001B[39m\u001B[38;5;28mself\u001B[39m\u001B[38;5;241m.\u001B[39mencoding,\n\u001B[0;32m    255\u001B[0m     errors\u001B[38;5;241m=\u001B[39m\u001B[38;5;28mself\u001B[39m\u001B[38;5;241m.\u001B[39merrors,\n\u001B[0;32m    256\u001B[0m     compression\u001B[38;5;241m=\u001B[39m\u001B[38;5;28mself\u001B[39m\u001B[38;5;241m.\u001B[39mcompression,\n\u001B[0;32m    257\u001B[0m     storage_options\u001B[38;5;241m=\u001B[39m\u001B[38;5;28mself\u001B[39m\u001B[38;5;241m.\u001B[39mstorage_options,\n\u001B[0;32m    258\u001B[0m ) \u001B[38;5;28;01mas\u001B[39;00m handles:\n\u001B[0;32m    259\u001B[0m     \u001B[38;5;66;03m# Note: self.encoding is irrelevant here\u001B[39;00m\n\u001B[0;32m    260\u001B[0m     \u001B[38;5;28mself\u001B[39m\u001B[38;5;241m.\u001B[39mwriter \u001B[38;5;241m=\u001B[39m csvlib\u001B[38;5;241m.\u001B[39mwriter(\n\u001B[0;32m    261\u001B[0m         handles\u001B[38;5;241m.\u001B[39mhandle,\n\u001B[0;32m    262\u001B[0m         lineterminator\u001B[38;5;241m=\u001B[39m\u001B[38;5;28mself\u001B[39m\u001B[38;5;241m.\u001B[39mlineterminator,\n\u001B[1;32m   (...)\u001B[0m\n\u001B[0;32m    267\u001B[0m         quotechar\u001B[38;5;241m=\u001B[39m\u001B[38;5;28mself\u001B[39m\u001B[38;5;241m.\u001B[39mquotechar,\n\u001B[0;32m    268\u001B[0m     )\n\u001B[0;32m    270\u001B[0m     \u001B[38;5;28mself\u001B[39m\u001B[38;5;241m.\u001B[39m_save()\n",
      "File \u001B[1;32mC:\\ProgramData\\anaconda3\\envs\\BigData2Project\\Lib\\site-packages\\pandas\\io\\common.py:749\u001B[0m, in \u001B[0;36mget_handle\u001B[1;34m(path_or_buf, mode, encoding, compression, memory_map, is_text, errors, storage_options)\u001B[0m\n\u001B[0;32m    747\u001B[0m \u001B[38;5;66;03m# Only for write methods\u001B[39;00m\n\u001B[0;32m    748\u001B[0m \u001B[38;5;28;01mif\u001B[39;00m \u001B[38;5;124m\"\u001B[39m\u001B[38;5;124mr\u001B[39m\u001B[38;5;124m\"\u001B[39m \u001B[38;5;129;01mnot\u001B[39;00m \u001B[38;5;129;01min\u001B[39;00m mode \u001B[38;5;129;01mand\u001B[39;00m is_path:\n\u001B[1;32m--> 749\u001B[0m     check_parent_directory(\u001B[38;5;28mstr\u001B[39m(handle))\n\u001B[0;32m    751\u001B[0m \u001B[38;5;28;01mif\u001B[39;00m compression:\n\u001B[0;32m    752\u001B[0m     \u001B[38;5;28;01mif\u001B[39;00m compression \u001B[38;5;241m!=\u001B[39m \u001B[38;5;124m\"\u001B[39m\u001B[38;5;124mzstd\u001B[39m\u001B[38;5;124m\"\u001B[39m:\n\u001B[0;32m    753\u001B[0m         \u001B[38;5;66;03m# compression libraries do not like an explicit text-mode\u001B[39;00m\n",
      "File \u001B[1;32mC:\\ProgramData\\anaconda3\\envs\\BigData2Project\\Lib\\site-packages\\pandas\\io\\common.py:616\u001B[0m, in \u001B[0;36mcheck_parent_directory\u001B[1;34m(path)\u001B[0m\n\u001B[0;32m    614\u001B[0m parent \u001B[38;5;241m=\u001B[39m Path(path)\u001B[38;5;241m.\u001B[39mparent\n\u001B[0;32m    615\u001B[0m \u001B[38;5;28;01mif\u001B[39;00m \u001B[38;5;129;01mnot\u001B[39;00m parent\u001B[38;5;241m.\u001B[39mis_dir():\n\u001B[1;32m--> 616\u001B[0m     \u001B[38;5;28;01mraise\u001B[39;00m \u001B[38;5;167;01mOSError\u001B[39;00m(\u001B[38;5;124mrf\u001B[39m\u001B[38;5;124m\"\u001B[39m\u001B[38;5;124mCannot save file into a non-existent directory: \u001B[39m\u001B[38;5;124m'\u001B[39m\u001B[38;5;132;01m{\u001B[39;00mparent\u001B[38;5;132;01m}\u001B[39;00m\u001B[38;5;124m'\u001B[39m\u001B[38;5;124m\"\u001B[39m)\n",
      "\u001B[1;31mOSError\u001B[0m: Cannot save file into a non-existent directory: 'C:\\projects\\BigData2Project\\data\\´pre_processed\\homeless\\shelter_occupancy'"
     ]
    }
   ],
   "execution_count": 4
  },
  {
   "metadata": {
    "ExecuteTime": {
     "end_time": "2024-07-05T05:27:37.516569Z",
     "start_time": "2024-07-05T05:27:37.267710Z"
    }
   },
   "cell_type": "code",
   "source": [
    "# Save the pre-processed data\n",
    "preprocessed_folder = os.path.join(project_folder, 'data','pre_processed', 'homeless', 'shelter_occupancy')\n",
    "# Check if the folder exists, if not, create it\n",
    "if not os.path.exists(preprocessed_folder):\n",
    "    os.makedirs(preprocessed_folder)\n",
    "preprocessed_file = os.path.join(preprocessed_folder, \"daily-shelter-occupancy-2020.csv\")\n",
    "dataset_preprocessor.save_preprocessed_data(preprocessed_file)"
   ],
   "id": "3d93bf611da3fb",
   "outputs": [
    {
     "name": "stdout",
     "output_type": "stream",
     "text": [
      "Pre-processed data saved to C:\\projects\\BigData2Project\\data\\pre_processed\\homeless\\shelter_occupancy\\daily-shelter-occupancy-2020.csv\n"
     ]
    }
   ],
   "execution_count": 6
  },
  {
   "metadata": {
    "ExecuteTime": {
     "end_time": "2024-07-05T05:28:32.725819Z",
     "start_time": "2024-07-05T05:28:32.280789Z"
    }
   },
   "cell_type": "code",
   "source": [
    "import pandas as pd\n",
    "from Datasets import Datasets as ds\n",
    "\n",
    "filename = \"daily-shelter-occupancy-2020.csv\"\n",
    "data_shelter_occupancy_2020 = pd.read_csv(preprocessed_file)\n",
    "print(f\"Shape: {data_shelter_occupancy_2020.shape}\")\n",
    "dataset_checker = ds.DatasetCheck(data_shelter_occupancy_2020)\n",
    "dataset_checker.standardize_categorical_values()\n",
    "dataset_check_results = dataset_checker.perform_checks()\n",
    "report = dataset_check_results.get_report()"
   ],
   "id": "b179d4d2ebff43a5",
   "outputs": [
    {
     "name": "stdout",
     "output_type": "stream",
     "text": [
      "Shape: (41061, 13)\n",
      "No missing values were found in the dataset.\n",
      "No duplicate records were found.\n",
      "No significant outliers were found in the 'Count' column.\n",
      "Total of lowercase issues: 41061. First 150 characters: OCCUPANCY_DATE: [0, 1, 2, 3, 4, 5, 6, 7, 8, 9, 10, 11, 12, 13, 14, 15, 16, 17, 18, 19, 20, 21, 22, 23, 24, 25, 26, 27, 28, 29, 30, 31, 32, 33, 34, 35,\n",
      "No categorical consistency issues were found in the dataset.\n",
      "No columns with all missing values found in the dataset.\n"
     ]
    }
   ],
   "execution_count": 8
  },
  {
   "metadata": {
    "ExecuteTime": {
     "end_time": "2024-07-05T05:08:13.375907Z",
     "start_time": "2024-07-05T05:08:13.113056Z"
    }
   },
   "cell_type": "code",
   "source": [
    "import pandas as pd\n",
    "from Datasets import Datasets as ds\n",
    "\n",
    "filename = \"daily-shelter-occupancy-2019.csv\"\n",
    "data_shelter_occupancy_2019 = pd.read_csv(downloader.get_path_for_downloaded_file(filename))\n",
    "dataset_checker = ds.DatasetCheck(data_shelter_occupancy_2019)\n",
    "dataset_check_results = dataset_checker.perform_checks()\n",
    "report = dataset_check_results.get_report()"
   ],
   "id": "e3a41a06fa193e96",
   "outputs": [
    {
     "name": "stdout",
     "output_type": "stream",
     "text": [
      "Missing values were found in the dataset:\n",
      "_id                     0\n",
      "OCCUPANCY_DATE          0\n",
      "ORGANIZATION_NAME       0\n",
      "SHELTER_NAME            0\n",
      "SHELTER_ADDRESS         0\n",
      "SHELTER_CITY            0\n",
      "SHELTER_PROVINCE        0\n",
      "SHELTER_POSTAL_CODE     0\n",
      "FACILITY_NAME           0\n",
      "PROGRAM_NAME            0\n",
      "SECTOR                  0\n",
      "OCCUPANCY               0\n",
      "CAPACITY               65\n",
      "dtype: int64\n",
      "No duplicate records were found.\n",
      "No significant outliers were found in the 'Count' column.\n",
      "The following columns have non-lowercase values:\n",
      "Total of lowercase issues: 394460. \n",
      "First 150 characters: OCCUPANCY_DATE: [0, 1, 2, 3, 4, 5, 6, 7, 8, 9, 10, 11, 12, 13, 14, 15, 16, 17, 18, 19, 20, 21, 22, 23, 24, 25, 26, 27, 28, 29, 30, 31, 32, 33, 34, 35,\n",
      "No categorical consistency issues were found in the dataset.\n"
     ]
    }
   ],
   "execution_count": 4
  },
  {
   "metadata": {
    "ExecuteTime": {
     "end_time": "2024-07-05T04:33:45.784372Z",
     "start_time": "2024-07-05T04:33:45.663643Z"
    }
   },
   "cell_type": "code",
   "source": [
    "import pandas as pd\n",
    "from Datasets import Datasets as ds\n",
    "\n",
    "filename = \"daily-shelter-occupancy-2018.csv\"\n",
    "data_shelter_occupancy_2018 = pd.read_csv(downloader.get_path_for_downloaded_file(filename))\n",
    "dataset_checker = ds.DatasetCheck(data_shelter_occupancy_2018)\n",
    "dataset_check_results = dataset_checker.perform_checks()\n",
    "report = dataset_check_results.get_report()"
   ],
   "id": "97e8778165458cc3",
   "outputs": [
    {
     "name": "stdout",
     "output_type": "stream",
     "text": [
      "Missing values were found in the dataset:\n",
      "_id                       0\n",
      "OCCUPANCY_DATE            0\n",
      "ORGANIZATION_NAME         0\n",
      "SHELTER_NAME              0\n",
      "SHELTER_ADDRESS           0\n",
      "SHELTER_CITY              0\n",
      "SHELTER_PROVINCE          0\n",
      "SHELTER_POSTAL_CODE    2920\n",
      "FACILITY_NAME             0\n",
      "PROGRAM_NAME              0\n",
      "SECTOR                    0\n",
      "OCCUPANCY                 0\n",
      "CAPACITY                  0\n",
      "dtype: int64\n",
      "No duplicate records were found.\n",
      "No significant outliers were found in the 'Count' column.\n"
     ]
    }
   ],
   "execution_count": 8
  },
  {
   "metadata": {
    "ExecuteTime": {
     "end_time": "2024-07-05T04:33:53.722270Z",
     "start_time": "2024-07-05T04:33:53.599440Z"
    }
   },
   "cell_type": "code",
   "source": [
    "import pandas as pd\n",
    "from Datasets import Datasets as ds\n",
    "\n",
    "filename = \"daily-shelter-occupancy-2017.csv\"\n",
    "data_shelter_occupancy_2017 = pd.read_csv(downloader.get_path_for_downloaded_file(filename))\n",
    "dataset_checker = ds.DatasetCheck(data_shelter_occupancy_2017)\n",
    "dataset_check_results = dataset_checker.perform_checks()\n",
    "report = dataset_check_results.get_report()"
   ],
   "id": "c7b00691541ad83a",
   "outputs": [
    {
     "name": "stdout",
     "output_type": "stream",
     "text": [
      "Missing values were found in the dataset:\n",
      "_id                       0\n",
      "OCCUPANCY_DATE            0\n",
      "ORGANIZATION_NAME         0\n",
      "SHELTER_NAME              0\n",
      "SHELTER_ADDRESS           0\n",
      "SHELTER_CITY              0\n",
      "SHELTER_PROVINCE          0\n",
      "SHELTER_POSTAL_CODE    2574\n",
      "FACILITY_NAME             0\n",
      "PROGRAM_NAME              0\n",
      "SECTOR                    0\n",
      "OCCUPANCY                 0\n",
      "CAPACITY                278\n",
      "dtype: int64\n",
      "No duplicate records were found.\n",
      "No significant outliers were found in the 'Count' column.\n"
     ]
    }
   ],
   "execution_count": 9
  },
  {
   "metadata": {},
   "cell_type": "markdown",
   "source": "",
   "id": "2e5f6384de1254eb"
  },
  {
   "metadata": {
    "ExecuteTime": {
     "end_time": "2024-07-05T04:46:49.152489Z",
     "start_time": "2024-07-05T04:46:48.248759Z"
    }
   },
   "cell_type": "code",
   "source": [
    "def check_daily_shelter_occupancy(year):\n",
    "    filename = f\"daily-shelter-overnight-service-occupancy-capacity-{year}.csv\"\n",
    "    print(f\"=== Checking {filename}\")\n",
    "    data_shelter_occupancy = pd.read_csv(downloader.get_path_for_downloaded_file(filename))\n",
    "    dataset_checker = ds.DatasetCheck(data_shelter_occupancy)\n",
    "    dataset_check_results = dataset_checker.perform_checks()\n",
    "    report = dataset_check_results.get_report()\n",
    "    return report\n",
    "\n",
    "check_daily_shelter_occupancy(2021)\n",
    "check_daily_shelter_occupancy(2022)\n",
    "check_daily_shelter_occupancy(2023)"
   ],
   "id": "b26cd2cd95d78dfa",
   "outputs": [
    {
     "name": "stdout",
     "output_type": "stream",
     "text": [
      "=== Checking daily-shelter-overnight-service-occupancy-capacity-2021.csv\n",
      "Missing values were found in the dataset:\n",
      "_id                           0\n",
      "OCCUPANCY_DATE                0\n",
      "ORGANIZATION_ID               0\n",
      "ORGANIZATION_NAME             0\n",
      "SHELTER_ID                    0\n",
      "SHELTER_GROUP                 0\n",
      "LOCATION_ID                 331\n",
      "LOCATION_NAME               333\n",
      "LOCATION_ADDRESS           1570\n",
      "LOCATION_POSTAL_CODE       1570\n",
      "LOCATION_CITY              1570\n",
      "LOCATION_PROVINCE          1570\n",
      "PROGRAM_ID                    0\n",
      "PROGRAM_NAME                 35\n",
      "SECTOR                        0\n",
      "PROGRAM_MODEL                 2\n",
      "OVERNIGHT_SERVICE_TYPE        2\n",
      "PROGRAM_AREA                  2\n",
      "SERVICE_USER_COUNT            0\n",
      "CAPACITY_TYPE                 0\n",
      "CAPACITY_ACTUAL_BED       18545\n",
      "CAPACITY_FUNDING_BED      18545\n",
      "OCCUPIED_BEDS             18545\n",
      "UNOCCUPIED_BEDS           18545\n",
      "UNAVAILABLE_BEDS          18545\n",
      "CAPACITY_ACTUAL_ROOM      32399\n",
      "CAPACITY_FUNDING_ROOM     32718\n",
      "OCCUPIED_ROOMS            32399\n",
      "UNOCCUPIED_ROOMS          32399\n",
      "UNAVAILABLE_ROOMS         32718\n",
      "OCCUPANCY_RATE_BEDS       18545\n",
      "OCCUPANCY_RATE_ROOMS      32399\n",
      "dtype: int64\n",
      "No duplicate records were found.\n",
      "No significant outliers were found in the 'Count' column.\n",
      "=== Checking daily-shelter-overnight-service-occupancy-capacity-2022.csv\n",
      "Missing values were found in the dataset:\n",
      "_id                           0\n",
      "OCCUPANCY_DATE                0\n",
      "ORGANIZATION_ID               0\n",
      "ORGANIZATION_NAME             0\n",
      "SHELTER_ID                    0\n",
      "SHELTER_GROUP               216\n",
      "LOCATION_ID                 109\n",
      "LOCATION_NAME               422\n",
      "LOCATION_ADDRESS           1334\n",
      "LOCATION_POSTAL_CODE       1334\n",
      "LOCATION_CITY              1334\n",
      "LOCATION_PROVINCE          1334\n",
      "PROGRAM_ID                    0\n",
      "PROGRAM_NAME                  0\n",
      "SECTOR                        0\n",
      "PROGRAM_MODEL                 0\n",
      "OVERNIGHT_SERVICE_TYPE        0\n",
      "PROGRAM_AREA                  0\n",
      "SERVICE_USER_COUNT            0\n",
      "CAPACITY_TYPE                 0\n",
      "CAPACITY_ACTUAL_BED       17441\n",
      "CAPACITY_FUNDING_BED      17441\n",
      "OCCUPIED_BEDS             17441\n",
      "UNOCCUPIED_BEDS           17441\n",
      "UNAVAILABLE_BEDS          17441\n",
      "CAPACITY_ACTUAL_ROOM      32037\n",
      "CAPACITY_FUNDING_ROOM     32037\n",
      "OCCUPIED_ROOMS            32037\n",
      "UNOCCUPIED_ROOMS          32037\n",
      "UNAVAILABLE_ROOMS         32037\n",
      "OCCUPANCY_RATE_BEDS       17441\n",
      "OCCUPANCY_RATE_ROOMS      32037\n",
      "dtype: int64\n",
      "No duplicate records were found.\n",
      "No significant outliers were found in the 'Count' column.\n",
      "=== Checking daily-shelter-overnight-service-occupancy-capacity-2023.csv\n",
      "Missing values were found in the dataset:\n",
      "_id                           0\n",
      "OCCUPANCY_DATE                0\n",
      "ORGANIZATION_ID               0\n",
      "ORGANIZATION_NAME             0\n",
      "SHELTER_ID                    0\n",
      "SHELTER_GROUP                 0\n",
      "LOCATION_ID                   0\n",
      "LOCATION_NAME               365\n",
      "LOCATION_ADDRESS           1443\n",
      "LOCATION_POSTAL_CODE       1443\n",
      "LOCATION_CITY              1463\n",
      "LOCATION_PROVINCE          1463\n",
      "PROGRAM_ID                    0\n",
      "PROGRAM_NAME                  0\n",
      "SECTOR                        0\n",
      "PROGRAM_MODEL                 0\n",
      "OVERNIGHT_SERVICE_TYPE        0\n",
      "PROGRAM_AREA                  0\n",
      "SERVICE_USER_COUNT            0\n",
      "CAPACITY_TYPE                 0\n",
      "CAPACITY_ACTUAL_BED       15457\n",
      "CAPACITY_FUNDING_BED      15457\n",
      "OCCUPIED_BEDS             15457\n",
      "UNOCCUPIED_BEDS           15457\n",
      "UNAVAILABLE_BEDS          15457\n",
      "CAPACITY_ACTUAL_ROOM      32888\n",
      "CAPACITY_FUNDING_ROOM     32888\n",
      "OCCUPIED_ROOMS            32888\n",
      "UNOCCUPIED_ROOMS          32888\n",
      "UNAVAILABLE_ROOMS         32888\n",
      "OCCUPANCY_RATE_BEDS       15457\n",
      "OCCUPANCY_RATE_ROOMS      32888\n",
      "dtype: int64\n",
      "No duplicate records were found.\n",
      "No significant outliers were found in the 'Count' column.\n"
     ]
    },
    {
     "data": {
      "text/plain": [
       "<Datasets.Datasets.DatasetCheckReport at 0x1abda87ac50>"
      ]
     },
     "execution_count": 13,
     "metadata": {},
     "output_type": "execute_result"
    }
   ],
   "execution_count": 13
  },
  {
   "metadata": {
    "ExecuteTime": {
     "end_time": "2024-07-05T05:40:17.428952Z",
     "start_time": "2024-07-05T05:40:15.441837Z"
    }
   },
   "cell_type": "code",
   "source": [
    "import pandas as pd\n",
    "from Datasets import Datasets as ds\n",
    "\n",
    "filename = \"daily-shelter-overnight-service-occupancy-capacity-2021.csv\"\n",
    "print(f\"=== Checking {filename}\")\n",
    "data_shelter_occupancy = pd.read_csv(downloader.get_path_for_downloaded_file(filename))\n",
    "dataset_checker = ds.DatasetCheck(data_shelter_occupancy)\n",
    "dataset_check_results = dataset_checker.perform_checks()\n",
    "report = dataset_check_results.get_report()"
   ],
   "id": "be266a9453ff0d3d",
   "outputs": [
    {
     "name": "stdout",
     "output_type": "stream",
     "text": [
      "=== Checking daily-shelter-overnight-service-occupancy-capacity-2021.csv\n",
      "Checking column: OCCUPANCY_DATE (object)\n",
      "Checking column: ORGANIZATION_NAME (object)\n",
      "Checking column: SHELTER_GROUP (object)\n",
      "Checking column: LOCATION_NAME (object)\n",
      "Error: 'float' object has no attribute 'islower' - Skipping column 'LOCATION_NAME'...\n",
      "Checking column: LOCATION_ADDRESS (object)\n",
      "Error: 'float' object has no attribute 'islower' - Skipping column 'LOCATION_ADDRESS'...\n",
      "Checking column: LOCATION_POSTAL_CODE (object)\n",
      "Error: 'float' object has no attribute 'islower' - Skipping column 'LOCATION_POSTAL_CODE'...\n",
      "Checking column: LOCATION_CITY (object)\n",
      "Error: 'float' object has no attribute 'islower' - Skipping column 'LOCATION_CITY'...\n",
      "Checking column: LOCATION_PROVINCE (object)\n",
      "Error: 'float' object has no attribute 'islower' - Skipping column 'LOCATION_PROVINCE'...\n",
      "Checking column: PROGRAM_NAME (object)\n",
      "Error: 'float' object has no attribute 'islower' - Skipping column 'PROGRAM_NAME'...\n",
      "Checking column: SECTOR (object)\n",
      "Checking column: PROGRAM_MODEL (object)\n",
      "Error: 'float' object has no attribute 'islower' - Skipping column 'PROGRAM_MODEL'...\n",
      "Checking column: OVERNIGHT_SERVICE_TYPE (object)\n",
      "Error: 'float' object has no attribute 'islower' - Skipping column 'OVERNIGHT_SERVICE_TYPE'...\n",
      "Checking column: PROGRAM_AREA (object)\n",
      "Error: 'float' object has no attribute 'islower' - Skipping column 'PROGRAM_AREA'...\n",
      "Checking column: CAPACITY_TYPE (object)\n"
     ]
    },
    {
     "ename": "AttributeError",
     "evalue": "'float' object has no attribute 'lower'",
     "output_type": "error",
     "traceback": [
      "\u001B[1;31m---------------------------------------------------------------------------\u001B[0m",
      "\u001B[1;31mAttributeError\u001B[0m                            Traceback (most recent call last)",
      "Cell \u001B[1;32mIn[3], line 8\u001B[0m\n\u001B[0;32m      6\u001B[0m data_shelter_occupancy \u001B[38;5;241m=\u001B[39m pd\u001B[38;5;241m.\u001B[39mread_csv(downloader\u001B[38;5;241m.\u001B[39mget_path_for_downloaded_file(filename))\n\u001B[0;32m      7\u001B[0m dataset_checker \u001B[38;5;241m=\u001B[39m ds\u001B[38;5;241m.\u001B[39mDatasetCheck(data_shelter_occupancy)\n\u001B[1;32m----> 8\u001B[0m dataset_check_results \u001B[38;5;241m=\u001B[39m dataset_checker\u001B[38;5;241m.\u001B[39mperform_checks()\n\u001B[0;32m      9\u001B[0m report \u001B[38;5;241m=\u001B[39m dataset_check_results\u001B[38;5;241m.\u001B[39mget_report()\n",
      "File \u001B[1;32mC:\\projects\\BigData2Project\\Datasets\\Datasets.py:64\u001B[0m, in \u001B[0;36mDatasetCheck.perform_checks\u001B[1;34m(self)\u001B[0m\n\u001B[0;32m     61\u001B[0m lowercase_issues \u001B[38;5;241m=\u001B[39m \u001B[38;5;28mself\u001B[39m\u001B[38;5;241m.\u001B[39mcheck_lowercase()\n\u001B[0;32m     63\u001B[0m \u001B[38;5;66;03m# Check data consistency for categorical values\u001B[39;00m\n\u001B[1;32m---> 64\u001B[0m categorical_consistency_issues \u001B[38;5;241m=\u001B[39m \u001B[38;5;28mself\u001B[39m\u001B[38;5;241m.\u001B[39mcheck_categorical_consistency()\n\u001B[0;32m     66\u001B[0m \u001B[38;5;66;03m# Identify columns with all missing values\u001B[39;00m\n\u001B[0;32m     67\u001B[0m columns_to_drop \u001B[38;5;241m=\u001B[39m \u001B[38;5;28mself\u001B[39m\u001B[38;5;241m.\u001B[39midentify_columns_to_drop()\n",
      "File \u001B[1;32mC:\\projects\\BigData2Project\\Datasets\\Datasets.py:100\u001B[0m, in \u001B[0;36mDatasetCheck.check_categorical_consistency\u001B[1;34m(self)\u001B[0m\n\u001B[0;32m     98\u001B[0m \u001B[38;5;28;01mfor\u001B[39;00m column \u001B[38;5;129;01min\u001B[39;00m categorical_columns:\n\u001B[0;32m     99\u001B[0m     unique_values \u001B[38;5;241m=\u001B[39m \u001B[38;5;28mself\u001B[39m\u001B[38;5;241m.\u001B[39mdataset[column]\u001B[38;5;241m.\u001B[39munique()\n\u001B[1;32m--> 100\u001B[0m     lowercase_unique_values \u001B[38;5;241m=\u001B[39m \u001B[38;5;28mset\u001B[39m([value\u001B[38;5;241m.\u001B[39mlower() \u001B[38;5;28;01mfor\u001B[39;00m value \u001B[38;5;129;01min\u001B[39;00m unique_values])\n\u001B[0;32m    102\u001B[0m     \u001B[38;5;28;01mif\u001B[39;00m \u001B[38;5;28mlen\u001B[39m(unique_values) \u001B[38;5;241m!=\u001B[39m \u001B[38;5;28mlen\u001B[39m(lowercase_unique_values):\n\u001B[0;32m    103\u001B[0m         issues[column] \u001B[38;5;241m=\u001B[39m {\n\u001B[0;32m    104\u001B[0m             \u001B[38;5;124m\"\u001B[39m\u001B[38;5;124munique_values\u001B[39m\u001B[38;5;124m\"\u001B[39m: unique_values,\n\u001B[0;32m    105\u001B[0m             \u001B[38;5;124m\"\u001B[39m\u001B[38;5;124mlowercase_unique_values\u001B[39m\u001B[38;5;124m\"\u001B[39m: lowercase_unique_values\n\u001B[0;32m    106\u001B[0m         }\n",
      "File \u001B[1;32mC:\\projects\\BigData2Project\\Datasets\\Datasets.py:100\u001B[0m, in \u001B[0;36m<listcomp>\u001B[1;34m(.0)\u001B[0m\n\u001B[0;32m     98\u001B[0m \u001B[38;5;28;01mfor\u001B[39;00m column \u001B[38;5;129;01min\u001B[39;00m categorical_columns:\n\u001B[0;32m     99\u001B[0m     unique_values \u001B[38;5;241m=\u001B[39m \u001B[38;5;28mself\u001B[39m\u001B[38;5;241m.\u001B[39mdataset[column]\u001B[38;5;241m.\u001B[39munique()\n\u001B[1;32m--> 100\u001B[0m     lowercase_unique_values \u001B[38;5;241m=\u001B[39m \u001B[38;5;28mset\u001B[39m([value\u001B[38;5;241m.\u001B[39mlower() \u001B[38;5;28;01mfor\u001B[39;00m value \u001B[38;5;129;01min\u001B[39;00m unique_values])\n\u001B[0;32m    102\u001B[0m     \u001B[38;5;28;01mif\u001B[39;00m \u001B[38;5;28mlen\u001B[39m(unique_values) \u001B[38;5;241m!=\u001B[39m \u001B[38;5;28mlen\u001B[39m(lowercase_unique_values):\n\u001B[0;32m    103\u001B[0m         issues[column] \u001B[38;5;241m=\u001B[39m {\n\u001B[0;32m    104\u001B[0m             \u001B[38;5;124m\"\u001B[39m\u001B[38;5;124munique_values\u001B[39m\u001B[38;5;124m\"\u001B[39m: unique_values,\n\u001B[0;32m    105\u001B[0m             \u001B[38;5;124m\"\u001B[39m\u001B[38;5;124mlowercase_unique_values\u001B[39m\u001B[38;5;124m\"\u001B[39m: lowercase_unique_values\n\u001B[0;32m    106\u001B[0m         }\n",
      "\u001B[1;31mAttributeError\u001B[0m: 'float' object has no attribute 'lower'"
     ]
    }
   ],
   "execution_count": 3
  },
  {
   "metadata": {},
   "cell_type": "code",
   "outputs": [],
   "execution_count": null,
   "source": [
    "# Save the pre-processed data\n",
    "preprocessed_folder = os.path.join(project_folder, 'data','pre_processed', 'homeless', 'daily-shelter_occupancy')\n",
    "# Check if the folder exists, if not, create it\n",
    "if not os.path.exists(preprocessed_folder):\n",
    "    os.makedirs(preprocessed_folder)\n",
    "preprocessed_file = os.path.join(preprocessed_folder, filename)\n",
    "dataset_preprocessor.save_preprocessed_data(preprocessed_file)"
   ],
   "id": "ba429d41e8a28f73"
  }
 ],
 "metadata": {
  "kernelspec": {
   "display_name": "Python 3",
   "language": "python",
   "name": "python3"
  },
  "language_info": {
   "codemirror_mode": {
    "name": "ipython",
    "version": 2
   },
   "file_extension": ".py",
   "mimetype": "text/x-python",
   "name": "python",
   "nbconvert_exporter": "python",
   "pygments_lexer": "ipython2",
   "version": "2.7.6"
  }
 },
 "nbformat": 4,
 "nbformat_minor": 5
}
