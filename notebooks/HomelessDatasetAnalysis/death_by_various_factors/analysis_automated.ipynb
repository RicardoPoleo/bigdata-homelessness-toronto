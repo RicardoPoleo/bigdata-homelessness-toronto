{
 "cells": [
  {
   "metadata": {},
   "cell_type": "markdown",
   "source": [
    "# Analysis for the Homelessness Dataset\n",
    "Category: Deaths of People Experiencing Homelessness\n",
    "\n",
    "This analysis will focus on the dataset related to the deaths of people experiencing homelessness in Toronto. \n",
    "The dataset contains information about the number of deaths by month for each year."
   ],
   "id": "a1cf8724a67e0076"
  },
  {
   "metadata": {
    "ExecuteTime": {
     "end_time": "2024-07-05T03:04:40.372908Z",
     "start_time": "2024-07-05T03:04:40.362680Z"
    }
   },
   "cell_type": "code",
   "source": [
    "import os\n",
    "\n",
    "# Get the current path\n",
    "current_path = os.getcwd()\n",
    "project_folder = os.path.abspath(os.path.join(current_path, '..', '..', '..'))\n",
    "print(project_folder)\n"
   ],
   "id": "51e15c947eeb90cf",
   "outputs": [
    {
     "name": "stdout",
     "output_type": "stream",
     "text": [
      "C:\\projects\\BigData2Project\n"
     ]
    }
   ],
   "execution_count": 1
  },
  {
   "metadata": {
    "ExecuteTime": {
     "end_time": "2024-07-05T03:04:48.563611Z",
     "start_time": "2024-07-05T03:04:44.859331Z"
    }
   },
   "cell_type": "code",
   "source": [
    "# Import the class OpenToronto from Downloaders\n",
    "from Downloaders import OpenCanada as oc\n",
    "from Datasets import HomelessnessDataset as homelessDS\n",
    "\n",
    "# Create an instance of the OpenCanada class\n",
    "downloader = oc.TorontoDownloader()\n",
    "\n",
    "category = homelessDS.HomelessnessDataset()\n",
    "\n",
    "#We want to download only the urls of the dataset related to the deaths of people experiencing homelessness\n",
    "downloader.load_pages(category.get_urls_death_people_experiencing_homelessness())\n",
    "downloader.get_datasets_info()\n",
    "\n",
    "download_folder = os.path.join(project_folder, 'data', 'raw', 'homeless', 'death_by')\n",
    "downloader.download_datasets(output_directory=download_folder)"
   ],
   "id": "6161b1a27b5592dc",
   "outputs": [
    {
     "name": "stdout",
     "output_type": "stream",
     "text": [
      "[Downloader] Added 1 urls to the list.\n",
      "0) Page URL: https://open.toronto.ca/dataset/deaths-of-people-experiencing-homelessness/, Name: Homeless deaths by month, Last Modified: None, Type: CSV, Size: 0.00 MB, URL: https://ckan0.cf.opendata.inter.prod-toronto.ca/datastore/dump/8b2e5ec9-7cee-49cc-a67e-bba38e5077be\n",
      "1) Page URL: https://open.toronto.ca/dataset/deaths-of-people-experiencing-homelessness/, Name: Homeless deaths by month.csv, Last Modified: 2024-04-17T21:09:06.846517, Type: CSV, Size: 0.00 MB, URL: https://ckan0.cf.opendata.inter.prod-toronto.ca/dataset/a7ae08f3-c512-4a88-bb3c-ab40eca50c5e/resource/dc4ec2fa-d655-46ca-af32-f216d26e9804/download/homeless-deaths-by-month.csv\n",
      "2) Page URL: https://open.toronto.ca/dataset/deaths-of-people-experiencing-homelessness/, Name: Homeless deaths by month.xml, Last Modified: 2024-04-17T21:09:08.113343, Type: XML, Size: 0.01 MB, URL: https://ckan0.cf.opendata.inter.prod-toronto.ca/dataset/a7ae08f3-c512-4a88-bb3c-ab40eca50c5e/resource/2ba00593-7c7f-426c-b1dd-e90c96c80305/download/homeless-deaths-by-month.xml\n",
      "3) Page URL: https://open.toronto.ca/dataset/deaths-of-people-experiencing-homelessness/, Name: Homeless deaths by month.json, Last Modified: 2024-04-17T21:09:09.332051, Type: JSON, Size: 0.01 MB, URL: https://ckan0.cf.opendata.inter.prod-toronto.ca/dataset/a7ae08f3-c512-4a88-bb3c-ab40eca50c5e/resource/a0ab4ec3-81d6-4aed-a8ac-f09c8a529184/download/homeless-deaths-by-month.json\n",
      "4) Page URL: https://open.toronto.ca/dataset/deaths-of-people-experiencing-homelessness/, Name: Homeless deaths by cause, Last Modified: None, Type: CSV, Size: 0.00 MB, URL: https://ckan0.cf.opendata.inter.prod-toronto.ca/datastore/dump/f056edc0-7741-4e66-b78a-163753359f64\n",
      "5) Page URL: https://open.toronto.ca/dataset/deaths-of-people-experiencing-homelessness/, Name: Homeless deaths by cause.csv, Last Modified: 2024-04-17T21:08:37.385864, Type: CSV, Size: 0.01 MB, URL: https://ckan0.cf.opendata.inter.prod-toronto.ca/dataset/a7ae08f3-c512-4a88-bb3c-ab40eca50c5e/resource/ceafdcdf-5f41-4ba5-9b69-f4c8e581ab6e/download/homeless-deaths-by-cause.csv\n",
      "6) Page URL: https://open.toronto.ca/dataset/deaths-of-people-experiencing-homelessness/, Name: Homeless deaths by cause.xml, Last Modified: 2024-04-17T21:08:38.686431, Type: XML, Size: 0.05 MB, URL: https://ckan0.cf.opendata.inter.prod-toronto.ca/dataset/a7ae08f3-c512-4a88-bb3c-ab40eca50c5e/resource/70b87dc7-e0a7-467b-92cd-891043d68965/download/homeless-deaths-by-cause.xml\n",
      "7) Page URL: https://open.toronto.ca/dataset/deaths-of-people-experiencing-homelessness/, Name: Homeless deaths by cause.json, Last Modified: 2024-04-17T21:08:39.794548, Type: JSON, Size: 0.03 MB, URL: https://ckan0.cf.opendata.inter.prod-toronto.ca/dataset/a7ae08f3-c512-4a88-bb3c-ab40eca50c5e/resource/2b5bb51f-0af5-40ea-9bd2-1d82f25f4d7e/download/homeless-deaths-by-cause.json\n",
      "8) Page URL: https://open.toronto.ca/dataset/deaths-of-people-experiencing-homelessness/, Name: Homeless deaths by demographics, Last Modified: None, Type: CSV, Size: 0.00 MB, URL: https://ckan0.cf.opendata.inter.prod-toronto.ca/datastore/dump/a21028cd-cda8-4bf3-bba8-de9c6834b887\n",
      "9) Page URL: https://open.toronto.ca/dataset/deaths-of-people-experiencing-homelessness/, Name: Homeless deaths by demographics.csv, Last Modified: 2024-04-17T21:09:35.524334, Type: CSV, Size: 0.00 MB, URL: https://ckan0.cf.opendata.inter.prod-toronto.ca/dataset/a7ae08f3-c512-4a88-bb3c-ab40eca50c5e/resource/04a75c51-e1ad-4ac3-82bf-e894b16bb9e5/download/homeless-deaths-by-demographics.csv\n",
      "10) Page URL: https://open.toronto.ca/dataset/deaths-of-people-experiencing-homelessness/, Name: Homeless deaths by demographics.xml, Last Modified: 2024-04-17T21:09:36.625278, Type: XML, Size: 0.01 MB, URL: https://ckan0.cf.opendata.inter.prod-toronto.ca/dataset/a7ae08f3-c512-4a88-bb3c-ab40eca50c5e/resource/93f565ff-071c-4df9-982b-9982d2054d94/download/homeless-deaths-by-demographics.xml\n",
      "11) Page URL: https://open.toronto.ca/dataset/deaths-of-people-experiencing-homelessness/, Name: Homeless deaths by demographics.json, Last Modified: 2024-04-17T21:09:37.632486, Type: JSON, Size: 0.01 MB, URL: https://ckan0.cf.opendata.inter.prod-toronto.ca/dataset/a7ae08f3-c512-4a88-bb3c-ab40eca50c5e/resource/fc19a8f8-262c-4796-b083-9438af8ba3e5/download/homeless-deaths-by-demographics.json\n",
      "[Downloader] Downloading: 'Homeless deaths by month' (0.00 MB) in folder 'deaths-of-people-experiencing-homelessness'.\n",
      "[Downloader] Downloaded: 'Homeless deaths by month' (0.00 MB) in folder 'deaths-of-people-experiencing-homelessness'.\n",
      "[Downloader] Downloading: 'Homeless deaths by month.csv' (0.00 MB) in folder 'deaths-of-people-experiencing-homelessness'.\n",
      "[Downloader] Downloaded: 'Homeless deaths by month.csv' (0.00 MB) in folder 'deaths-of-people-experiencing-homelessness'.\n",
      "[Downloader] Downloading: 'Homeless deaths by month.xml' (0.01 MB) in folder 'deaths-of-people-experiencing-homelessness'.\n",
      "[Downloader] Downloaded: 'Homeless deaths by month.xml' (0.01 MB) in folder 'deaths-of-people-experiencing-homelessness'.\n",
      "[Downloader] Downloading: 'Homeless deaths by month.json' (0.01 MB) in folder 'deaths-of-people-experiencing-homelessness'.\n",
      "[Downloader] Downloaded: 'Homeless deaths by month.json' (0.01 MB) in folder 'deaths-of-people-experiencing-homelessness'.\n",
      "[Downloader] Downloading: 'Homeless deaths by cause' (0.00 MB) in folder 'deaths-of-people-experiencing-homelessness'.\n",
      "[Downloader] Downloaded: 'Homeless deaths by cause' (0.00 MB) in folder 'deaths-of-people-experiencing-homelessness'.\n",
      "[Downloader] Downloading: 'Homeless deaths by cause.csv' (0.01 MB) in folder 'deaths-of-people-experiencing-homelessness'.\n",
      "[Downloader] Downloaded: 'Homeless deaths by cause.csv' (0.01 MB) in folder 'deaths-of-people-experiencing-homelessness'.\n",
      "[Downloader] Downloading: 'Homeless deaths by cause.xml' (0.05 MB) in folder 'deaths-of-people-experiencing-homelessness'.\n",
      "[Downloader] Downloaded: 'Homeless deaths by cause.xml' (0.05 MB) in folder 'deaths-of-people-experiencing-homelessness'.\n",
      "[Downloader] Downloading: 'Homeless deaths by cause.json' (0.03 MB) in folder 'deaths-of-people-experiencing-homelessness'.\n",
      "[Downloader] Downloaded: 'Homeless deaths by cause.json' (0.03 MB) in folder 'deaths-of-people-experiencing-homelessness'.\n",
      "[Downloader] Downloading: 'Homeless deaths by demographics' (0.00 MB) in folder 'deaths-of-people-experiencing-homelessness'.\n",
      "[Downloader] Downloaded: 'Homeless deaths by demographics' (0.00 MB) in folder 'deaths-of-people-experiencing-homelessness'.\n",
      "[Downloader] Downloading: 'Homeless deaths by demographics.csv' (0.00 MB) in folder 'deaths-of-people-experiencing-homelessness'.\n",
      "[Downloader] Downloaded: 'Homeless deaths by demographics.csv' (0.00 MB) in folder 'deaths-of-people-experiencing-homelessness'.\n",
      "[Downloader] Downloading: 'Homeless deaths by demographics.xml' (0.01 MB) in folder 'deaths-of-people-experiencing-homelessness'.\n",
      "[Downloader] Downloaded: 'Homeless deaths by demographics.xml' (0.01 MB) in folder 'deaths-of-people-experiencing-homelessness'.\n",
      "[Downloader] Downloading: 'Homeless deaths by demographics.json' (0.01 MB) in folder 'deaths-of-people-experiencing-homelessness'.\n",
      "[Downloader] Downloaded: 'Homeless deaths by demographics.json' (0.01 MB) in folder 'deaths-of-people-experiencing-homelessness'.\n",
      "\n",
      "\n",
      "This is the list of downloaded paths and destinations:\n",
      "'8b2e5ec9-7cee-49cc-a67e-bba38e5077be':'C:\\projects\\BigData2Project\\data\\raw\\homeless\\death_by\\deaths-of-people-experiencing-homelessness\\8b2e5ec9-7cee-49cc-a67e-bba38e5077be'\n",
      "'homeless-deaths-by-month.csv':'C:\\projects\\BigData2Project\\data\\raw\\homeless\\death_by\\deaths-of-people-experiencing-homelessness\\homeless-deaths-by-month.csv'\n",
      "'homeless-deaths-by-month.xml':'C:\\projects\\BigData2Project\\data\\raw\\homeless\\death_by\\deaths-of-people-experiencing-homelessness\\homeless-deaths-by-month.xml'\n",
      "'homeless-deaths-by-month.json':'C:\\projects\\BigData2Project\\data\\raw\\homeless\\death_by\\deaths-of-people-experiencing-homelessness\\homeless-deaths-by-month.json'\n",
      "'f056edc0-7741-4e66-b78a-163753359f64':'C:\\projects\\BigData2Project\\data\\raw\\homeless\\death_by\\deaths-of-people-experiencing-homelessness\\f056edc0-7741-4e66-b78a-163753359f64'\n",
      "'homeless-deaths-by-cause.csv':'C:\\projects\\BigData2Project\\data\\raw\\homeless\\death_by\\deaths-of-people-experiencing-homelessness\\homeless-deaths-by-cause.csv'\n",
      "'homeless-deaths-by-cause.xml':'C:\\projects\\BigData2Project\\data\\raw\\homeless\\death_by\\deaths-of-people-experiencing-homelessness\\homeless-deaths-by-cause.xml'\n",
      "'homeless-deaths-by-cause.json':'C:\\projects\\BigData2Project\\data\\raw\\homeless\\death_by\\deaths-of-people-experiencing-homelessness\\homeless-deaths-by-cause.json'\n",
      "'a21028cd-cda8-4bf3-bba8-de9c6834b887':'C:\\projects\\BigData2Project\\data\\raw\\homeless\\death_by\\deaths-of-people-experiencing-homelessness\\a21028cd-cda8-4bf3-bba8-de9c6834b887'\n",
      "'homeless-deaths-by-demographics.csv':'C:\\projects\\BigData2Project\\data\\raw\\homeless\\death_by\\deaths-of-people-experiencing-homelessness\\homeless-deaths-by-demographics.csv'\n",
      "'homeless-deaths-by-demographics.xml':'C:\\projects\\BigData2Project\\data\\raw\\homeless\\death_by\\deaths-of-people-experiencing-homelessness\\homeless-deaths-by-demographics.xml'\n",
      "'homeless-deaths-by-demographics.json':'C:\\projects\\BigData2Project\\data\\raw\\homeless\\death_by\\deaths-of-people-experiencing-homelessness\\homeless-deaths-by-demographics.json'\n",
      "\n",
      "\n",
      "[Downloader] Finished downloading 12 urls.\n"
     ]
    }
   ],
   "execution_count": 2
  },
  {
   "metadata": {},
   "cell_type": "markdown",
   "source": "# Death by Month",
   "id": "5d7e54a4dd168385"
  },
  {
   "cell_type": "code",
   "id": "initial_id",
   "metadata": {
    "collapsed": true,
    "ExecuteTime": {
     "end_time": "2024-07-05T03:04:52.643997Z",
     "start_time": "2024-07-05T03:04:51.935292Z"
    }
   },
   "source": [
    "import pandas as pd\n",
    "\n",
    "data_by_month = pd.read_csv(downloader.get_path_for_downloaded_file(\"homeless-deaths-by-month.csv\"))\n",
    "data_by_month.head()"
   ],
   "outputs": [
    {
     "data": {
      "text/plain": [
       "   _id  Year of death Month of death  Count\n",
       "0    1           2022           July     19\n",
       "1    2           2023       February     13\n",
       "2    3           2023          April      8\n",
       "3    4           2017        October      6\n",
       "4    5           2023          March     14"
      ],
      "text/html": [
       "<div>\n",
       "<style scoped>\n",
       "    .dataframe tbody tr th:only-of-type {\n",
       "        vertical-align: middle;\n",
       "    }\n",
       "\n",
       "    .dataframe tbody tr th {\n",
       "        vertical-align: top;\n",
       "    }\n",
       "\n",
       "    .dataframe thead th {\n",
       "        text-align: right;\n",
       "    }\n",
       "</style>\n",
       "<table border=\"1\" class=\"dataframe\">\n",
       "  <thead>\n",
       "    <tr style=\"text-align: right;\">\n",
       "      <th></th>\n",
       "      <th>_id</th>\n",
       "      <th>Year of death</th>\n",
       "      <th>Month of death</th>\n",
       "      <th>Count</th>\n",
       "    </tr>\n",
       "  </thead>\n",
       "  <tbody>\n",
       "    <tr>\n",
       "      <th>0</th>\n",
       "      <td>1</td>\n",
       "      <td>2022</td>\n",
       "      <td>July</td>\n",
       "      <td>19</td>\n",
       "    </tr>\n",
       "    <tr>\n",
       "      <th>1</th>\n",
       "      <td>2</td>\n",
       "      <td>2023</td>\n",
       "      <td>February</td>\n",
       "      <td>13</td>\n",
       "    </tr>\n",
       "    <tr>\n",
       "      <th>2</th>\n",
       "      <td>3</td>\n",
       "      <td>2023</td>\n",
       "      <td>April</td>\n",
       "      <td>8</td>\n",
       "    </tr>\n",
       "    <tr>\n",
       "      <th>3</th>\n",
       "      <td>4</td>\n",
       "      <td>2017</td>\n",
       "      <td>October</td>\n",
       "      <td>6</td>\n",
       "    </tr>\n",
       "    <tr>\n",
       "      <th>4</th>\n",
       "      <td>5</td>\n",
       "      <td>2023</td>\n",
       "      <td>March</td>\n",
       "      <td>14</td>\n",
       "    </tr>\n",
       "  </tbody>\n",
       "</table>\n",
       "</div>"
      ]
     },
     "execution_count": 3,
     "metadata": {},
     "output_type": "execute_result"
    }
   ],
   "execution_count": 3
  },
  {
   "metadata": {
    "ExecuteTime": {
     "end_time": "2024-07-05T03:11:34.721993Z",
     "start_time": "2024-07-05T03:11:34.714670Z"
    }
   },
   "cell_type": "code",
   "source": [
    "from Datasets import Datasets as ds\n",
    "dataset_check = ds.DatasetCheck(data_by_month)\n",
    "# Perform the data quality check\n",
    "quality_check_results = dataset_check.data_quality_check()\n",
    "\n",
    "# Loop through the results of missing values and if all are 0, no missing values, if not, print the missing values\n",
    "if all(value == 0 for value in quality_check_results['missing_values'].values()):\n",
    "    print(\"No missing values were found in the dataset.\")\n",
    "else:\n",
    "    print(\"Missing values were found in the dataset:\")\n",
    "    print(quality_check_results['missing_values'])\n",
    "    \n",
    "# Check for duplicates\n",
    "if quality_check_results['duplicates'] == 0:\n",
    "    print(\"No duplicate records were found.\")\n",
    "else:\n",
    "    print(\"Duplicate records were found.\")"
   ],
   "id": "450834afe78bf2f2",
   "outputs": [
    {
     "name": "stdout",
     "output_type": "stream",
     "text": [
      "Missing Values:\n",
      "_id               0\n",
      "Year of death     0\n",
      "Month of death    0\n",
      "Count             0\n",
      "dtype: int64\n",
      "Duplicates:\n",
      "0\n",
      "No missing values were found in the dataset.\n",
      "No duplicate records were found.\n"
     ]
    }
   ],
   "execution_count": 17
  },
  {
   "metadata": {
    "ExecuteTime": {
     "end_time": "2024-07-05T03:08:00.321541Z",
     "start_time": "2024-07-05T03:08:00.315671Z"
    }
   },
   "cell_type": "code",
   "source": [
    "# Perform the data types verification\n",
    "types = dataset_check.get_data_types()\n",
    "types"
   ],
   "id": "8c5c025cbd91c10",
   "outputs": [
    {
     "data": {
      "text/plain": [
       "{'_id': 'int64',\n",
       " 'Year of death': 'int64',\n",
       " 'Month of death': 'object',\n",
       " 'Count': 'int64'}"
      ]
     },
     "execution_count": 7,
     "metadata": {},
     "output_type": "execute_result"
    }
   ],
   "execution_count": 7
  },
  {
   "metadata": {},
   "cell_type": "markdown",
   "source": "## Data Quality Check",
   "id": "36f710ece652eb9f"
  },
  {
   "metadata": {
    "ExecuteTime": {
     "end_time": "2024-07-05T00:15:30.107024Z",
     "start_time": "2024-07-05T00:15:30.099962Z"
    }
   },
   "cell_type": "code",
   "source": [
    "# checking for missing values and duplicates\n",
    "missing_values_month = data_by_month.isnull().sum()\n",
    "duplicates_month = data_by_month.duplicated().sum()\n",
    "\n",
    "missing_values_month, duplicates_month"
   ],
   "id": "87e452aff40aa9b1",
   "outputs": [
    {
     "data": {
      "text/plain": [
       "(_id               0\n",
       " Year of death     0\n",
       " Month of death    0\n",
       " Count             0\n",
       " dtype: int64,\n",
       " 0)"
      ]
     },
     "execution_count": 8,
     "metadata": {},
     "output_type": "execute_result"
    }
   ],
   "execution_count": 8
  },
  {
   "metadata": {},
   "cell_type": "markdown",
   "source": [
    "### Results\n",
    "- Missing Values: No missing values were found in the dataset.\n",
    "- Duplicates: No duplicate records were found."
   ],
   "id": "577887dc7a42ea4e"
  },
  {
   "metadata": {},
   "cell_type": "markdown",
   "source": "## Data Types Verification",
   "id": "7cce83f3ef58b332"
  },
  {
   "metadata": {},
   "cell_type": "markdown",
   "source": "We check the data types of each column and make sure they are as expected",
   "id": "174bf72b5ad4847"
  },
  {
   "metadata": {
    "ExecuteTime": {
     "end_time": "2024-07-05T00:15:33.751349Z",
     "start_time": "2024-07-05T00:15:33.744238Z"
    }
   },
   "cell_type": "code",
   "source": [
    "data_types_month = data_by_month.dtypes\n",
    "data_types_month"
   ],
   "id": "b5a7ed8ca8f850b9",
   "outputs": [
    {
     "data": {
      "text/plain": [
       "_id                int64\n",
       "Year of death      int64\n",
       "Month of death    object\n",
       "Count              int64\n",
       "dtype: object"
      ]
     },
     "execution_count": 9,
     "metadata": {},
     "output_type": "execute_result"
    }
   ],
   "execution_count": 9
  },
  {
   "metadata": {},
   "cell_type": "markdown",
   "source": [
    "## Data Types Verification Results\n",
    "- _id: Integer (int64) - Correct\n",
    "- Year of death: Integer (int64) - Correct\n",
    "- Month of death: String (object) - Correct\n",
    "- Count: Integer (int64) - Correct\n",
    "\n",
    "*The data types are correct as expected*"
   ],
   "id": "36c2e0e74bc86140"
  },
  {
   "metadata": {},
   "cell_type": "markdown",
   "source": [
    "# Identify Outliers\n",
    "\n",
    "We need to identify any outliers in the Count column, as it represents the number of deaths and can help in understanding if there are any unusually high or low values."
   ],
   "id": "a3eb3049c9d74284"
  },
  {
   "metadata": {},
   "cell_type": "markdown",
   "source": [
    "## Data Consistency Check\n",
    "We will also verify the consistency of categorical values in the column Month of death."
   ],
   "id": "fd962aadc6e4eb2b"
  },
  {
   "metadata": {
    "ExecuteTime": {
     "end_time": "2024-07-05T00:15:41.199913Z",
     "start_time": "2024-07-05T00:15:41.190878Z"
    }
   },
   "cell_type": "code",
   "source": [
    "outliers_month = data_by_month['Count'].describe()\n",
    "unique_month_of_death = data_by_month['Month of death'].unique()\n",
    "outliers_month, unique_month_of_death"
   ],
   "id": "10cfeeb1d7070c11",
   "outputs": [
    {
     "data": {
      "text/plain": [
       "(count    84.000000\n",
       " mean     12.166667\n",
       " std       5.060676\n",
       " min       1.000000\n",
       " 25%       8.000000\n",
       " 50%      11.000000\n",
       " 75%      15.000000\n",
       " max      26.000000\n",
       " Name: Count, dtype: float64,\n",
       " array(['July', 'February', 'April', 'October', 'March', 'August',\n",
       "        'November', 'May', 'January', 'December', 'June', 'September'],\n",
       "       dtype=object))"
      ]
     },
     "execution_count": 10,
     "metadata": {},
     "output_type": "execute_result"
    }
   ],
   "execution_count": 10
  },
  {
   "metadata": {},
   "cell_type": "markdown",
   "source": [
    "## Outliers and Data Consistency Check Results\n",
    "\n",
    "### Outliers in Count Column:\n",
    "- Count: 84 records\n",
    "- Mean: 12.17\n",
    "- Standard Deviation: 5.06\n",
    "- Minimum: 1\n",
    "- Maximum: 26\n",
    "\n",
    "The Count column has a maximum value of 26, which is higher than the mean but within a reasonable range considering the standard deviation.\n",
    "\n",
    "### Consistency of Categorical Values:\n",
    "Month of death:\n",
    "- Unique Values: ['July', 'February', 'April', 'October', 'March', 'August', 'November', 'May', 'January', 'December', 'June', 'September']\n",
    "\n",
    "These categories are consistent and cover all months of the year."
   ],
   "id": "b6f29a5cd964ce"
  },
  {
   "metadata": {},
   "cell_type": "markdown",
   "source": [
    "# Summary and Documentation for PySpark\n",
    "\n",
    "1. Schema Definition:\n",
    "\n",
    "```json\n",
    "{\n",
    "  \"_id\": \"Integer - Unique identifier for each record\",\n",
    "  \"Year of death\": \"Integer - The year when the death occurred\",\n",
    "  \"Month of death\": \"String - The month when the death occurred\",\n",
    "  \"Count\": \"Integer - The number of deaths\"\n",
    "}\n",
    "```\n",
    "\n",
    "2. Data Quality:\n",
    "- No missing values.\n",
    "- No duplicate records.\n",
    "- Data types are correct.\n",
    "- No significant outliers in the Count column.\n",
    "\n",
    "3. Data Consistency:\n",
    "Month of death: Consistent and correctly categorized.\n",
    "\n",
    "4. Dataset Overview:\n",
    "This dataset contains records of homeless deaths in Toronto, categorized by month and year, with the count of deaths for each month.\n",
    "The data spans multiple years and provides insights into the seasonal trends in deaths among the homeless population.\n",
    "\n",
    "5. Source Information:\n",
    "Provide information about the source and date of the last update.\n",
    "\n",
    "6. Metadata:\n",
    "Any additional notes or observations about the data."
   ],
   "id": "ed8852527f754aa"
  },
  {
   "metadata": {},
   "cell_type": "markdown",
   "source": "# Death by demographics",
   "id": "50314301dbcf1517"
  },
  {
   "metadata": {
    "ExecuteTime": {
     "end_time": "2024-07-05T00:21:03.897746Z",
     "start_time": "2024-07-05T00:21:03.883776Z"
    }
   },
   "cell_type": "code",
   "source": [
    "import pandas as pd\n",
    "data_by_demographics = pd.read_csv(downloader.get_path_for_downloaded_file(\"homeless-deaths-by-demographics.csv\"))\n",
    "data_by_demographics.head()"
   ],
   "id": "813b75e1b14656c3",
   "outputs": [
    {
     "data": {
      "text/plain": [
       "   _id  Year of death Age_group       Gender  Count\n",
       "0    1           2017   Unknown       Female      1\n",
       "1    2           2017     20-39  Transgender      1\n",
       "2    3           2017       60+       Female      6\n",
       "3    4           2017     40-59       Female     12\n",
       "4    5           2017       60+         Male     20"
      ],
      "text/html": [
       "<div>\n",
       "<style scoped>\n",
       "    .dataframe tbody tr th:only-of-type {\n",
       "        vertical-align: middle;\n",
       "    }\n",
       "\n",
       "    .dataframe tbody tr th {\n",
       "        vertical-align: top;\n",
       "    }\n",
       "\n",
       "    .dataframe thead th {\n",
       "        text-align: right;\n",
       "    }\n",
       "</style>\n",
       "<table border=\"1\" class=\"dataframe\">\n",
       "  <thead>\n",
       "    <tr style=\"text-align: right;\">\n",
       "      <th></th>\n",
       "      <th>_id</th>\n",
       "      <th>Year of death</th>\n",
       "      <th>Age_group</th>\n",
       "      <th>Gender</th>\n",
       "      <th>Count</th>\n",
       "    </tr>\n",
       "  </thead>\n",
       "  <tbody>\n",
       "    <tr>\n",
       "      <th>0</th>\n",
       "      <td>1</td>\n",
       "      <td>2017</td>\n",
       "      <td>Unknown</td>\n",
       "      <td>Female</td>\n",
       "      <td>1</td>\n",
       "    </tr>\n",
       "    <tr>\n",
       "      <th>1</th>\n",
       "      <td>2</td>\n",
       "      <td>2017</td>\n",
       "      <td>20-39</td>\n",
       "      <td>Transgender</td>\n",
       "      <td>1</td>\n",
       "    </tr>\n",
       "    <tr>\n",
       "      <th>2</th>\n",
       "      <td>3</td>\n",
       "      <td>2017</td>\n",
       "      <td>60+</td>\n",
       "      <td>Female</td>\n",
       "      <td>6</td>\n",
       "    </tr>\n",
       "    <tr>\n",
       "      <th>3</th>\n",
       "      <td>4</td>\n",
       "      <td>2017</td>\n",
       "      <td>40-59</td>\n",
       "      <td>Female</td>\n",
       "      <td>12</td>\n",
       "    </tr>\n",
       "    <tr>\n",
       "      <th>4</th>\n",
       "      <td>5</td>\n",
       "      <td>2017</td>\n",
       "      <td>60+</td>\n",
       "      <td>Male</td>\n",
       "      <td>20</td>\n",
       "    </tr>\n",
       "  </tbody>\n",
       "</table>\n",
       "</div>"
      ]
     },
     "execution_count": 11,
     "metadata": {},
     "output_type": "execute_result"
    }
   ],
   "execution_count": 11
  },
  {
   "metadata": {},
   "cell_type": "code",
   "outputs": [],
   "execution_count": null,
   "source": [
    "# Check for missing values\n",
    "missing_values_demographics = data_by_demographics.isnull().sum()\n",
    "\n",
    "# Check for duplicates\n",
    "duplicates_demographics = data_by_demographics.duplicated().sum()\n",
    "\n",
    "missing_values_demographics, duplicates_demographics\n"
   ],
   "id": "4c73d1d56e328932"
  },
  {
   "metadata": {},
   "cell_type": "code",
   "outputs": [],
   "execution_count": null,
   "source": [
    "# Verify data types\n",
    "data_types_demographics = data_by_demographics.dtypes\n",
    "\n",
    "data_types_demographics\n"
   ],
   "id": "5efc26aa2c023006"
  },
  {
   "metadata": {},
   "cell_type": "code",
   "outputs": [],
   "execution_count": null,
   "source": [
    "# Identify outliers in the 'Count' column\n",
    "outliers_demographics = data_by_demographics['Count'].describe()\n",
    "\n",
    "# Verify consistency of categorical values\n",
    "unique_age_group_demographics = data_by_demographics['Age_group'].unique()\n",
    "unique_gender_demographics = data_by_demographics['Gender'].unique()\n",
    "\n",
    "outliers_demographics, unique_age_group_demographics, unique_gender_demographics\n"
   ],
   "id": "2ad401dd5c4cf14"
  },
  {
   "metadata": {},
   "cell_type": "markdown",
   "source": [
    "## Summary and Documentation for PySpark\n",
    "\n",
    "1. Schema\n",
    "{\n",
    "  \"_id\": \"Integer - Unique identifier for each record\",\n",
    "  \"Year of death\": \"Integer - The year when the death occurred\",\n",
    "  \"Age_group\": \"String - The age group of the deceased (e.g., Unknown, 20-39, 40-59, 60+, <20)\",\n",
    "  \"Gender\": \"String - The gender of the deceased (e.g., Male, Female, Transgender, Unknown)\",\n",
    "  \"Count\": \"Integer - The number of deaths\"\n",
    "}\n",
    "\n",
    "2. Data Quality:\n",
    "- No missing values.\n",
    "- No duplicate records.\n",
    "- Data types are correct.\n",
    "- One potential outlier in the Count column (value of 70).\n",
    "\n",
    "3. Data Consistency:\n",
    "- Age_group and Gender: Consistent and correctly categorized.\n",
    "\n",
    "4. Dataset Overview:\n",
    "This dataset contains records of homeless deaths in Toronto, categorized by age group and gender, with the count of deaths for each category.\n",
    "The data spans multiple years and provides insights into the trends and demographics of deaths among the homeless population.\n",
    "\n",
    "5. Source Information:\n",
    "[TODO] We need to provide information about the source and date of the last update.\n",
    "\n",
    "6. Metadata:\n",
    "Any additional notes or observations about the data."
   ],
   "id": "f03ed3e8d296c91e"
  },
  {
   "metadata": {},
   "cell_type": "markdown",
   "source": "# Death by Cause",
   "id": "b45b01f0e62bb352"
  },
  {
   "metadata": {},
   "cell_type": "code",
   "outputs": [],
   "execution_count": null,
   "source": [
    "import pandas as pd\n",
    "\n",
    "# Load the CSV file\n",
    "file_path = '/mnt/data/homeless-deaths-by-cause.csv'\n",
    "data_by_cause = pd.read_csv(file_path)\n",
    "\n",
    "# Display the first few rows of the dataset\n",
    "data_by_cause.head()\n"
   ],
   "id": "b89b4aca5c0c73f3"
  },
  {
   "metadata": {},
   "cell_type": "code",
   "outputs": [],
   "execution_count": null,
   "source": [
    "# Check for missing values\n",
    "missing_values = data_by_cause.isnull().sum()\n",
    "\n",
    "# Check for duplicates\n",
    "duplicates = data_by_cause.duplicated().sum()\n",
    "\n",
    "missing_values, duplicates\n"
   ],
   "id": "49113b528e2d26c0"
  },
  {
   "metadata": {},
   "cell_type": "code",
   "outputs": [],
   "execution_count": null,
   "source": [
    "# Verify data types\n",
    "data_types = data_by_cause.dtypes\n",
    "\n",
    "data_types\n"
   ],
   "id": "270d5ba2125e86f"
  },
  {
   "metadata": {},
   "cell_type": "code",
   "outputs": [],
   "execution_count": null,
   "source": [
    "# Identify outliers in the 'Count' column\n",
    "outliers = data_by_cause['Count'].describe()\n",
    "\n",
    "# Verify consistency of categorical values\n",
    "unique_cause_of_death = data_by_cause['Cause_of_death'].unique()\n",
    "unique_age_group = data_by_cause['Age_group'].unique()\n",
    "unique_gender = data_by_cause['Gender'].unique()\n",
    "\n",
    "outliers, unique_cause_of_death, unique_age_group, unique_gender\n"
   ],
   "id": "f791f448def878c3"
  },
  {
   "metadata": {},
   "cell_type": "markdown",
   "source": [
    "## Summary and Documentation for PySpark\n",
    "\n",
    "1. Schema Definition:\n",
    "{\n",
    "  \"_id\": \"Integer - Unique identifier for each record\",\n",
    "  \"Year of death\": \"Integer - The year when the death occurred\",\n",
    "  \"Cause_of_death\": \"String - The cause of death (e.g., Cardiovascular Disease, Other, Suicide, Accident)\",\n",
    "  \"Age_group\": \"String - The age group of the deceased (e.g., Unknown, 20-39, 40-59, 60+, <20)\",\n",
    "  \"Gender\": \"String - The gender of the deceased (e.g., Male, Female, Unknown)\",\n",
    "  \"Count\": \"Integer - The number of deaths\"\n",
    "}\n",
    "\n",
    "2. Data Quality:\n",
    "- No missing values.\n",
    "- No duplicate records.\n",
    "- Data types are correct.\n",
    "\n",
    "One potential outlier in the Count column (value of 51).\n",
    "\n",
    "3. Data Consistency:\n",
    "- Cause_of_death: Standardize \"Drug Toxicity\" and \"Drug toxicity\" to a single category.\n",
    "- Age_group and Gender: Consistent and correctly categorized\n",
    "\n",
    "4. Dataset Overview:\n",
    "This dataset contains records of homeless deaths in Toronto, categorized by cause, age group, and gender, with the count of deaths for each category.\n",
    "The data spans multiple years and provides insights into the trends and causes of deaths among the homeless population.\n",
    "\n",
    "5. Source Information:\n",
    "[TODO] We need to provide information about the source and date of the last update."
   ],
   "id": "606b1dcb949d7b9c"
  }
 ],
 "metadata": {
  "kernelspec": {
   "display_name": "Python 3",
   "language": "python",
   "name": "python3"
  },
  "language_info": {
   "codemirror_mode": {
    "name": "ipython",
    "version": 2
   },
   "file_extension": ".py",
   "mimetype": "text/x-python",
   "name": "python",
   "nbconvert_exporter": "python",
   "pygments_lexer": "ipython2",
   "version": "2.7.6"
  }
 },
 "nbformat": 4,
 "nbformat_minor": 5
}
