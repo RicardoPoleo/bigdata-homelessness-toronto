{
 "cells": [
  {
   "metadata": {},
   "cell_type": "markdown",
   "source": [
    "# Analysis for the Homelessness Dataset\n",
    "Category: Deaths of People Experiencing Homelessness\n",
    "\n",
    "This analysis will focus on the dataset related to the deaths of people experiencing homelessness in Toronto. \n",
    "The dataset contains information about the number of deaths by month for each year."
   ],
   "id": "a1cf8724a67e0076"
  },
  {
   "metadata": {
    "ExecuteTime": {
     "end_time": "2024-07-05T04:17:25.522484Z",
     "start_time": "2024-07-05T04:17:25.517437Z"
    }
   },
   "cell_type": "code",
   "source": [
    "import os\n",
    "\n",
    "# Get the current path\n",
    "current_path = os.getcwd()\n",
    "project_folder = os.path.abspath(os.path.join(current_path, '..', '..', '..'))\n",
    "print(project_folder)\n"
   ],
   "id": "51e15c947eeb90cf",
   "outputs": [
    {
     "name": "stdout",
     "output_type": "stream",
     "text": [
      "C:\\projects\\BigData2Project\n"
     ]
    }
   ],
   "execution_count": 16
  },
  {
   "metadata": {
    "ExecuteTime": {
     "end_time": "2024-07-05T04:17:25.941593Z",
     "start_time": "2024-07-05T04:17:25.524492Z"
    }
   },
   "cell_type": "code",
   "source": [
    "# Import the class OpenToronto from Downloaders\n",
    "from Downloaders import OpenCanada as oc\n",
    "from Datasets import HomelessnessDataset as homelessDS\n",
    "\n",
    "# Create an instance of the OpenCanada class\n",
    "downloader = oc.TorontoDownloader()\n",
    "\n",
    "category = homelessDS.HomelessnessDataset()\n",
    "\n",
    "#We want to download only the urls of the dataset related to the deaths of people experiencing homelessness\n",
    "downloader.load_pages(category.get_urls_death_people_experiencing_homelessness())\n",
    "downloader.get_datasets_info()\n",
    "\n",
    "download_folder = os.path.join(project_folder, 'data', 'raw', 'homeless', 'death_by')\n",
    "downloader.download_datasets(output_directory=download_folder, if_exists='skip')"
   ],
   "id": "6161b1a27b5592dc",
   "outputs": [
    {
     "name": "stdout",
     "output_type": "stream",
     "text": [
      "[Downloader] Added 1 urls to the list.\n",
      "0) Page URL: https://open.toronto.ca/dataset/deaths-of-people-experiencing-homelessness/, Name: Homeless deaths by month, Last Modified: None, Type: CSV, Size: 0.00 MB, URL: https://ckan0.cf.opendata.inter.prod-toronto.ca/datastore/dump/8b2e5ec9-7cee-49cc-a67e-bba38e5077be\n",
      "1) Page URL: https://open.toronto.ca/dataset/deaths-of-people-experiencing-homelessness/, Name: Homeless deaths by month.csv, Last Modified: 2024-04-17T21:09:06.846517, Type: CSV, Size: 0.00 MB, URL: https://ckan0.cf.opendata.inter.prod-toronto.ca/dataset/a7ae08f3-c512-4a88-bb3c-ab40eca50c5e/resource/dc4ec2fa-d655-46ca-af32-f216d26e9804/download/homeless-deaths-by-month.csv\n",
      "2) Page URL: https://open.toronto.ca/dataset/deaths-of-people-experiencing-homelessness/, Name: Homeless deaths by month.xml, Last Modified: 2024-04-17T21:09:08.113343, Type: XML, Size: 0.01 MB, URL: https://ckan0.cf.opendata.inter.prod-toronto.ca/dataset/a7ae08f3-c512-4a88-bb3c-ab40eca50c5e/resource/2ba00593-7c7f-426c-b1dd-e90c96c80305/download/homeless-deaths-by-month.xml\n",
      "3) Page URL: https://open.toronto.ca/dataset/deaths-of-people-experiencing-homelessness/, Name: Homeless deaths by month.json, Last Modified: 2024-04-17T21:09:09.332051, Type: JSON, Size: 0.01 MB, URL: https://ckan0.cf.opendata.inter.prod-toronto.ca/dataset/a7ae08f3-c512-4a88-bb3c-ab40eca50c5e/resource/a0ab4ec3-81d6-4aed-a8ac-f09c8a529184/download/homeless-deaths-by-month.json\n",
      "4) Page URL: https://open.toronto.ca/dataset/deaths-of-people-experiencing-homelessness/, Name: Homeless deaths by cause, Last Modified: None, Type: CSV, Size: 0.00 MB, URL: https://ckan0.cf.opendata.inter.prod-toronto.ca/datastore/dump/f056edc0-7741-4e66-b78a-163753359f64\n",
      "5) Page URL: https://open.toronto.ca/dataset/deaths-of-people-experiencing-homelessness/, Name: Homeless deaths by cause.csv, Last Modified: 2024-04-17T21:08:37.385864, Type: CSV, Size: 0.01 MB, URL: https://ckan0.cf.opendata.inter.prod-toronto.ca/dataset/a7ae08f3-c512-4a88-bb3c-ab40eca50c5e/resource/ceafdcdf-5f41-4ba5-9b69-f4c8e581ab6e/download/homeless-deaths-by-cause.csv\n",
      "6) Page URL: https://open.toronto.ca/dataset/deaths-of-people-experiencing-homelessness/, Name: Homeless deaths by cause.xml, Last Modified: 2024-04-17T21:08:38.686431, Type: XML, Size: 0.05 MB, URL: https://ckan0.cf.opendata.inter.prod-toronto.ca/dataset/a7ae08f3-c512-4a88-bb3c-ab40eca50c5e/resource/70b87dc7-e0a7-467b-92cd-891043d68965/download/homeless-deaths-by-cause.xml\n",
      "7) Page URL: https://open.toronto.ca/dataset/deaths-of-people-experiencing-homelessness/, Name: Homeless deaths by cause.json, Last Modified: 2024-04-17T21:08:39.794548, Type: JSON, Size: 0.03 MB, URL: https://ckan0.cf.opendata.inter.prod-toronto.ca/dataset/a7ae08f3-c512-4a88-bb3c-ab40eca50c5e/resource/2b5bb51f-0af5-40ea-9bd2-1d82f25f4d7e/download/homeless-deaths-by-cause.json\n",
      "8) Page URL: https://open.toronto.ca/dataset/deaths-of-people-experiencing-homelessness/, Name: Homeless deaths by demographics, Last Modified: None, Type: CSV, Size: 0.00 MB, URL: https://ckan0.cf.opendata.inter.prod-toronto.ca/datastore/dump/a21028cd-cda8-4bf3-bba8-de9c6834b887\n",
      "9) Page URL: https://open.toronto.ca/dataset/deaths-of-people-experiencing-homelessness/, Name: Homeless deaths by demographics.csv, Last Modified: 2024-04-17T21:09:35.524334, Type: CSV, Size: 0.00 MB, URL: https://ckan0.cf.opendata.inter.prod-toronto.ca/dataset/a7ae08f3-c512-4a88-bb3c-ab40eca50c5e/resource/04a75c51-e1ad-4ac3-82bf-e894b16bb9e5/download/homeless-deaths-by-demographics.csv\n",
      "10) Page URL: https://open.toronto.ca/dataset/deaths-of-people-experiencing-homelessness/, Name: Homeless deaths by demographics.xml, Last Modified: 2024-04-17T21:09:36.625278, Type: XML, Size: 0.01 MB, URL: https://ckan0.cf.opendata.inter.prod-toronto.ca/dataset/a7ae08f3-c512-4a88-bb3c-ab40eca50c5e/resource/93f565ff-071c-4df9-982b-9982d2054d94/download/homeless-deaths-by-demographics.xml\n",
      "11) Page URL: https://open.toronto.ca/dataset/deaths-of-people-experiencing-homelessness/, Name: Homeless deaths by demographics.json, Last Modified: 2024-04-17T21:09:37.632486, Type: JSON, Size: 0.01 MB, URL: https://ckan0.cf.opendata.inter.prod-toronto.ca/dataset/a7ae08f3-c512-4a88-bb3c-ab40eca50c5e/resource/fc19a8f8-262c-4796-b083-9438af8ba3e5/download/homeless-deaths-by-demographics.json\n",
      "[Downloader] Downloading: 'Homeless deaths by month' (0.00 MB) in folder 'deaths-of-people-experiencing-homelessness'.\n",
      "[SKIP] Skipping download, file already exists: 8b2e5ec9-7cee-49cc-a67e-bba38e5077be\n",
      "[Downloader] Downloaded: 'Homeless deaths by month' (0.00 MB) in folder 'deaths-of-people-experiencing-homelessness'.\n",
      "[Downloader] Downloading: 'Homeless deaths by month.csv' (0.00 MB) in folder 'deaths-of-people-experiencing-homelessness'.\n",
      "[SKIP] Skipping download, file already exists: homeless-deaths-by-month.csv\n",
      "[Downloader] Downloaded: 'Homeless deaths by month.csv' (0.00 MB) in folder 'deaths-of-people-experiencing-homelessness'.\n",
      "[Downloader] Downloading: 'Homeless deaths by month.xml' (0.01 MB) in folder 'deaths-of-people-experiencing-homelessness'.\n",
      "[SKIP] Skipping download, file already exists: homeless-deaths-by-month.xml\n",
      "[Downloader] Downloaded: 'Homeless deaths by month.xml' (0.01 MB) in folder 'deaths-of-people-experiencing-homelessness'.\n",
      "[Downloader] Downloading: 'Homeless deaths by month.json' (0.01 MB) in folder 'deaths-of-people-experiencing-homelessness'.\n",
      "[SKIP] Skipping download, file already exists: homeless-deaths-by-month.json\n",
      "[Downloader] Downloaded: 'Homeless deaths by month.json' (0.01 MB) in folder 'deaths-of-people-experiencing-homelessness'.\n",
      "[Downloader] Downloading: 'Homeless deaths by cause' (0.00 MB) in folder 'deaths-of-people-experiencing-homelessness'.\n",
      "[SKIP] Skipping download, file already exists: f056edc0-7741-4e66-b78a-163753359f64\n",
      "[Downloader] Downloaded: 'Homeless deaths by cause' (0.00 MB) in folder 'deaths-of-people-experiencing-homelessness'.\n",
      "[Downloader] Downloading: 'Homeless deaths by cause.csv' (0.01 MB) in folder 'deaths-of-people-experiencing-homelessness'.\n",
      "[SKIP] Skipping download, file already exists: homeless-deaths-by-cause.csv\n",
      "[Downloader] Downloaded: 'Homeless deaths by cause.csv' (0.01 MB) in folder 'deaths-of-people-experiencing-homelessness'.\n",
      "[Downloader] Downloading: 'Homeless deaths by cause.xml' (0.05 MB) in folder 'deaths-of-people-experiencing-homelessness'.\n",
      "[SKIP] Skipping download, file already exists: homeless-deaths-by-cause.xml\n",
      "[Downloader] Downloaded: 'Homeless deaths by cause.xml' (0.05 MB) in folder 'deaths-of-people-experiencing-homelessness'.\n",
      "[Downloader] Downloading: 'Homeless deaths by cause.json' (0.03 MB) in folder 'deaths-of-people-experiencing-homelessness'.\n",
      "[SKIP] Skipping download, file already exists: homeless-deaths-by-cause.json\n",
      "[Downloader] Downloaded: 'Homeless deaths by cause.json' (0.03 MB) in folder 'deaths-of-people-experiencing-homelessness'.\n",
      "[Downloader] Downloading: 'Homeless deaths by demographics' (0.00 MB) in folder 'deaths-of-people-experiencing-homelessness'.\n",
      "[SKIP] Skipping download, file already exists: a21028cd-cda8-4bf3-bba8-de9c6834b887\n",
      "[Downloader] Downloaded: 'Homeless deaths by demographics' (0.00 MB) in folder 'deaths-of-people-experiencing-homelessness'.\n",
      "[Downloader] Downloading: 'Homeless deaths by demographics.csv' (0.00 MB) in folder 'deaths-of-people-experiencing-homelessness'.\n",
      "[SKIP] Skipping download, file already exists: homeless-deaths-by-demographics.csv\n",
      "[Downloader] Downloaded: 'Homeless deaths by demographics.csv' (0.00 MB) in folder 'deaths-of-people-experiencing-homelessness'.\n",
      "[Downloader] Downloading: 'Homeless deaths by demographics.xml' (0.01 MB) in folder 'deaths-of-people-experiencing-homelessness'.\n",
      "[SKIP] Skipping download, file already exists: homeless-deaths-by-demographics.xml\n",
      "[Downloader] Downloaded: 'Homeless deaths by demographics.xml' (0.01 MB) in folder 'deaths-of-people-experiencing-homelessness'.\n",
      "[Downloader] Downloading: 'Homeless deaths by demographics.json' (0.01 MB) in folder 'deaths-of-people-experiencing-homelessness'.\n",
      "[SKIP] Skipping download, file already exists: homeless-deaths-by-demographics.json\n",
      "[Downloader] Downloaded: 'Homeless deaths by demographics.json' (0.01 MB) in folder 'deaths-of-people-experiencing-homelessness'.\n",
      "\n",
      "\n",
      "This is the list of downloaded paths and destinations:\n",
      "'8b2e5ec9-7cee-49cc-a67e-bba38e5077be':'C:\\projects\\BigData2Project\\data\\raw\\homeless\\death_by\\deaths-of-people-experiencing-homelessness\\8b2e5ec9-7cee-49cc-a67e-bba38e5077be'\n",
      "'homeless-deaths-by-month.csv':'C:\\projects\\BigData2Project\\data\\raw\\homeless\\death_by\\deaths-of-people-experiencing-homelessness\\homeless-deaths-by-month.csv'\n",
      "'homeless-deaths-by-month.xml':'C:\\projects\\BigData2Project\\data\\raw\\homeless\\death_by\\deaths-of-people-experiencing-homelessness\\homeless-deaths-by-month.xml'\n",
      "'homeless-deaths-by-month.json':'C:\\projects\\BigData2Project\\data\\raw\\homeless\\death_by\\deaths-of-people-experiencing-homelessness\\homeless-deaths-by-month.json'\n",
      "'f056edc0-7741-4e66-b78a-163753359f64':'C:\\projects\\BigData2Project\\data\\raw\\homeless\\death_by\\deaths-of-people-experiencing-homelessness\\f056edc0-7741-4e66-b78a-163753359f64'\n",
      "'homeless-deaths-by-cause.csv':'C:\\projects\\BigData2Project\\data\\raw\\homeless\\death_by\\deaths-of-people-experiencing-homelessness\\homeless-deaths-by-cause.csv'\n",
      "'homeless-deaths-by-cause.xml':'C:\\projects\\BigData2Project\\data\\raw\\homeless\\death_by\\deaths-of-people-experiencing-homelessness\\homeless-deaths-by-cause.xml'\n",
      "'homeless-deaths-by-cause.json':'C:\\projects\\BigData2Project\\data\\raw\\homeless\\death_by\\deaths-of-people-experiencing-homelessness\\homeless-deaths-by-cause.json'\n",
      "'a21028cd-cda8-4bf3-bba8-de9c6834b887':'C:\\projects\\BigData2Project\\data\\raw\\homeless\\death_by\\deaths-of-people-experiencing-homelessness\\a21028cd-cda8-4bf3-bba8-de9c6834b887'\n",
      "'homeless-deaths-by-demographics.csv':'C:\\projects\\BigData2Project\\data\\raw\\homeless\\death_by\\deaths-of-people-experiencing-homelessness\\homeless-deaths-by-demographics.csv'\n",
      "'homeless-deaths-by-demographics.xml':'C:\\projects\\BigData2Project\\data\\raw\\homeless\\death_by\\deaths-of-people-experiencing-homelessness\\homeless-deaths-by-demographics.xml'\n",
      "'homeless-deaths-by-demographics.json':'C:\\projects\\BigData2Project\\data\\raw\\homeless\\death_by\\deaths-of-people-experiencing-homelessness\\homeless-deaths-by-demographics.json'\n",
      "'8b2e5ec9-7cee-49cc-a67e-bba38e5077be':'C:\\projects\\BigData2Project\\data\\raw\\homeless\\death_by\\deaths-of-people-experiencing-homelessness\\8b2e5ec9-7cee-49cc-a67e-bba38e5077be'\n",
      "'homeless-deaths-by-month.csv':'C:\\projects\\BigData2Project\\data\\raw\\homeless\\death_by\\deaths-of-people-experiencing-homelessness\\homeless-deaths-by-month.csv'\n",
      "'homeless-deaths-by-month.xml':'C:\\projects\\BigData2Project\\data\\raw\\homeless\\death_by\\deaths-of-people-experiencing-homelessness\\homeless-deaths-by-month.xml'\n",
      "'homeless-deaths-by-month.json':'C:\\projects\\BigData2Project\\data\\raw\\homeless\\death_by\\deaths-of-people-experiencing-homelessness\\homeless-deaths-by-month.json'\n",
      "'f056edc0-7741-4e66-b78a-163753359f64':'C:\\projects\\BigData2Project\\data\\raw\\homeless\\death_by\\deaths-of-people-experiencing-homelessness\\f056edc0-7741-4e66-b78a-163753359f64'\n",
      "'homeless-deaths-by-cause.csv':'C:\\projects\\BigData2Project\\data\\raw\\homeless\\death_by\\deaths-of-people-experiencing-homelessness\\homeless-deaths-by-cause.csv'\n",
      "'homeless-deaths-by-cause.xml':'C:\\projects\\BigData2Project\\data\\raw\\homeless\\death_by\\deaths-of-people-experiencing-homelessness\\homeless-deaths-by-cause.xml'\n",
      "'homeless-deaths-by-cause.json':'C:\\projects\\BigData2Project\\data\\raw\\homeless\\death_by\\deaths-of-people-experiencing-homelessness\\homeless-deaths-by-cause.json'\n",
      "'a21028cd-cda8-4bf3-bba8-de9c6834b887':'C:\\projects\\BigData2Project\\data\\raw\\homeless\\death_by\\deaths-of-people-experiencing-homelessness\\a21028cd-cda8-4bf3-bba8-de9c6834b887'\n",
      "'homeless-deaths-by-demographics.csv':'C:\\projects\\BigData2Project\\data\\raw\\homeless\\death_by\\deaths-of-people-experiencing-homelessness\\homeless-deaths-by-demographics.csv'\n",
      "'homeless-deaths-by-demographics.xml':'C:\\projects\\BigData2Project\\data\\raw\\homeless\\death_by\\deaths-of-people-experiencing-homelessness\\homeless-deaths-by-demographics.xml'\n",
      "'homeless-deaths-by-demographics.json':'C:\\projects\\BigData2Project\\data\\raw\\homeless\\death_by\\deaths-of-people-experiencing-homelessness\\homeless-deaths-by-demographics.json'\n",
      "\n",
      "\n",
      "[Downloader] Finished downloading 12 urls.\n"
     ]
    }
   ],
   "execution_count": 17
  },
  {
   "metadata": {},
   "cell_type": "markdown",
   "source": "# Death by Month",
   "id": "5d7e54a4dd168385"
  },
  {
   "cell_type": "code",
   "id": "initial_id",
   "metadata": {
    "collapsed": true,
    "ExecuteTime": {
     "end_time": "2024-07-05T04:17:25.952640Z",
     "start_time": "2024-07-05T04:17:25.943599Z"
    }
   },
   "source": [
    "import pandas as pd\n",
    "from Datasets import Datasets as ds\n",
    "\n",
    "data_by_month = pd.read_csv(downloader.get_path_for_downloaded_file(\"homeless-deaths-by-month.csv\"))\n",
    "dataset_checker = ds.DatasetCheck(data_by_month)\n",
    "dataset_check_results = dataset_checker.perform_checks()\n",
    "report = dataset_check_results.get_report()"
   ],
   "outputs": [
    {
     "name": "stdout",
     "output_type": "stream",
     "text": [
      "No missing values were found in the dataset.\n",
      "No duplicate records were found.\n",
      "No significant outliers were found in the 'Count' column.\n"
     ]
    }
   ],
   "execution_count": 18
  },
  {
   "metadata": {},
   "cell_type": "markdown",
   "source": "# Death by DemoGraphics",
   "id": "28a45e782649ecb1"
  },
  {
   "metadata": {
    "ExecuteTime": {
     "end_time": "2024-07-05T04:17:25.967538Z",
     "start_time": "2024-07-05T04:17:25.954648Z"
    }
   },
   "cell_type": "code",
   "source": [
    "import pandas as pd\n",
    "from Datasets import Datasets as ds\n",
    "\n",
    "data_by_demographics = pd.read_csv(downloader.get_path_for_downloaded_file(\"homeless-deaths-by-demographics.csv\"))\n",
    "dataset_checker = ds.DatasetCheck(data_by_demographics)\n",
    "dataset_check_results = dataset_checker.perform_checks()\n",
    "report = dataset_check_results.get_report()"
   ],
   "id": "450834afe78bf2f2",
   "outputs": [
    {
     "name": "stdout",
     "output_type": "stream",
     "text": [
      "No missing values were found in the dataset.\n",
      "No duplicate records were found.\n",
      "Significant outliers were found in the 'Count' column:\n",
      "count    75.000000\n",
      "mean     13.733333\n",
      "std      16.414672\n",
      "min       1.000000\n",
      "25%       2.000000\n",
      "50%       6.000000\n",
      "75%      19.500000\n",
      "max      70.000000\n",
      "Name: Count, dtype: float64\n"
     ]
    }
   ],
   "execution_count": 19
  },
  {
   "metadata": {},
   "cell_type": "markdown",
   "source": "# Death by Cause",
   "id": "d308446f592d672a"
  },
  {
   "metadata": {
    "ExecuteTime": {
     "end_time": "2024-07-05T04:17:25.980300Z",
     "start_time": "2024-07-05T04:17:25.970547Z"
    }
   },
   "cell_type": "code",
   "source": [
    "import pandas as pd\n",
    "from Datasets import Datasets as ds\n",
    "\n",
    "data_by_cause = pd.read_csv(downloader.get_path_for_downloaded_file(\"homeless-deaths-by-cause.csv\"))\n",
    "dataset_checker = ds.DatasetCheck(data_by_cause)\n",
    "dataset_check_results = dataset_checker.perform_checks()\n",
    "report = dataset_check_results.get_report()"
   ],
   "id": "49b871572f1a390a",
   "outputs": [
    {
     "name": "stdout",
     "output_type": "stream",
     "text": [
      "No missing values were found in the dataset.\n",
      "No duplicate records were found.\n",
      "Significant outliers were found in the 'Count' column:\n",
      "count    267.000000\n",
      "mean       3.805243\n",
      "std        5.949623\n",
      "min        1.000000\n",
      "25%        1.000000\n",
      "50%        2.000000\n",
      "75%        3.500000\n",
      "max       51.000000\n",
      "Name: Count, dtype: float64\n"
     ]
    }
   ],
   "execution_count": 20
  }
 ],
 "metadata": {
  "kernelspec": {
   "display_name": "Python 3",
   "language": "python",
   "name": "python3"
  },
  "language_info": {
   "codemirror_mode": {
    "name": "ipython",
    "version": 2
   },
   "file_extension": ".py",
   "mimetype": "text/x-python",
   "name": "python",
   "nbconvert_exporter": "python",
   "pygments_lexer": "ipython2",
   "version": "2.7.6"
  }
 },
 "nbformat": 4,
 "nbformat_minor": 5
}
