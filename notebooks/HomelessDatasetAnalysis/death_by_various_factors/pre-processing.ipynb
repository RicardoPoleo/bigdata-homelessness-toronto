{
 "cells": [
  {
   "metadata": {},
   "cell_type": "markdown",
   "source": [
    "# General Preprocessing Steps\n",
    "From the previous analysis, we have the following steps that we need to do for the pre-processing\n",
    "\n",
    "1. Standardize Categorical Values:\n",
    "\n",
    "Ensure all categorical values are consistent (e.g., standardizing \"Drug Toxicity\" and \"Drug toxicity\" to a single format).\n",
    "\n",
    "2. Handle Missing Values:\n",
    "\n",
    "Since we found no missing values, this step can be skipped for now.\n",
    "\n",
    "3. Remove Duplicates:\n",
    "\n",
    "Since we found no duplicate records, this step can be skipped for now.\n",
    "\n",
    "4. Verify Data Types:\n",
    "\n",
    "Ensure all columns have the correct data types. Convert columns if necessary.\n",
    "\n",
    "5. Identify and Handle Outliers:\n",
    "\n",
    "Review identified outliers and decide whether to keep them, remove them, or handle them differently based on the context.\n"
   ],
   "id": "55ef5db274b3ce57"
  },
  {
   "metadata": {},
   "cell_type": "markdown",
   "source": [
    "# Specific Preprocessing Steps for Each Dataset\n",
    "\n",
    "## 1. homeless-deaths-by-cause.csv\n",
    "Standardize Cause_of_death Values:\n",
    "\n",
    "Convert all values to lower case or upper case to ensure consistency.\n",
    "Convert Data Types (if necessary):\n",
    "\n",
    "Ensure all columns are of the correct type.\n",
    "\n",
    "## 2. homeless-deaths-by-demographics.csv\n",
    "Verify Consistency of Age_group and Gender:\n",
    "\n",
    "No inconsistencies found, so this step can be skipped.\n",
    "Convert Data Types (if necessary):\n",
    "\n",
    "Ensure all columns are of the correct type.\n",
    "\n",
    "## 3. homeless-deaths-by-month.csv\n",
    "Verify Consistency of Month of death:\n",
    "\n",
    "Ensure all month values are consistent and correctly spelled.\n",
    "Convert Data Types (if necessary):\n",
    "\n",
    "Ensure all columns are of the correct type."
   ],
   "id": "e73830f12a2634dd"
  },
  {
   "cell_type": "code",
   "id": "initial_id",
   "metadata": {
    "collapsed": true,
    "ExecuteTime": {
     "end_time": "2024-07-05T02:24:16.115373Z",
     "start_time": "2024-07-05T02:24:16.104274Z"
    }
   },
   "source": [
    "import os\n",
    "\n",
    "# Get the current path\n",
    "current_path = os.getcwd()\n",
    "project_folder = os.path.abspath(os.path.join(current_path, '..', '..', '..'))\n",
    "print(project_folder)"
   ],
   "outputs": [
    {
     "name": "stdout",
     "output_type": "stream",
     "text": [
      "C:\\projects\\BigData2Project\n"
     ]
    }
   ],
   "execution_count": 1
  },
  {
   "metadata": {
    "ExecuteTime": {
     "end_time": "2024-07-05T02:24:22.287855Z",
     "start_time": "2024-07-05T02:24:18.715485Z"
    }
   },
   "cell_type": "code",
   "source": [
    "from Downloaders import OpenCanada as oc\n",
    "from Datasets import HomelessnessDataset as homelessDS\n",
    "\n",
    "downloader = oc.TorontoDownloader()\n",
    "category = homelessDS.HomelessnessDataset()\n",
    "\n",
    "downloader.load_pages(category.get_urls_death_people_experiencing_homelessness())\n",
    "downloader.get_datasets_info()\n",
    "\n",
    "download_folder = os.path.join(project_folder, 'data', 'raw', 'homeless', 'death_by')\n",
    "downloader.download_datasets(output_directory=download_folder)"
   ],
   "id": "5be19e6a203b5cc2",
   "outputs": [
    {
     "name": "stdout",
     "output_type": "stream",
     "text": [
      "[Downloader] Added 1 urls to the list.\n",
      "0) Page URL: https://open.toronto.ca/dataset/deaths-of-people-experiencing-homelessness/, Name: Homeless deaths by month, Last Modified: None, Type: CSV, Size: 0.00 MB, URL: https://ckan0.cf.opendata.inter.prod-toronto.ca/datastore/dump/8b2e5ec9-7cee-49cc-a67e-bba38e5077be\n",
      "1) Page URL: https://open.toronto.ca/dataset/deaths-of-people-experiencing-homelessness/, Name: Homeless deaths by month.csv, Last Modified: 2024-04-17T21:09:06.846517, Type: CSV, Size: 0.00 MB, URL: https://ckan0.cf.opendata.inter.prod-toronto.ca/dataset/a7ae08f3-c512-4a88-bb3c-ab40eca50c5e/resource/dc4ec2fa-d655-46ca-af32-f216d26e9804/download/homeless-deaths-by-month.csv\n",
      "2) Page URL: https://open.toronto.ca/dataset/deaths-of-people-experiencing-homelessness/, Name: Homeless deaths by month.xml, Last Modified: 2024-04-17T21:09:08.113343, Type: XML, Size: 0.01 MB, URL: https://ckan0.cf.opendata.inter.prod-toronto.ca/dataset/a7ae08f3-c512-4a88-bb3c-ab40eca50c5e/resource/2ba00593-7c7f-426c-b1dd-e90c96c80305/download/homeless-deaths-by-month.xml\n",
      "3) Page URL: https://open.toronto.ca/dataset/deaths-of-people-experiencing-homelessness/, Name: Homeless deaths by month.json, Last Modified: 2024-04-17T21:09:09.332051, Type: JSON, Size: 0.01 MB, URL: https://ckan0.cf.opendata.inter.prod-toronto.ca/dataset/a7ae08f3-c512-4a88-bb3c-ab40eca50c5e/resource/a0ab4ec3-81d6-4aed-a8ac-f09c8a529184/download/homeless-deaths-by-month.json\n",
      "4) Page URL: https://open.toronto.ca/dataset/deaths-of-people-experiencing-homelessness/, Name: Homeless deaths by cause, Last Modified: None, Type: CSV, Size: 0.00 MB, URL: https://ckan0.cf.opendata.inter.prod-toronto.ca/datastore/dump/f056edc0-7741-4e66-b78a-163753359f64\n",
      "5) Page URL: https://open.toronto.ca/dataset/deaths-of-people-experiencing-homelessness/, Name: Homeless deaths by cause.csv, Last Modified: 2024-04-17T21:08:37.385864, Type: CSV, Size: 0.01 MB, URL: https://ckan0.cf.opendata.inter.prod-toronto.ca/dataset/a7ae08f3-c512-4a88-bb3c-ab40eca50c5e/resource/ceafdcdf-5f41-4ba5-9b69-f4c8e581ab6e/download/homeless-deaths-by-cause.csv\n",
      "6) Page URL: https://open.toronto.ca/dataset/deaths-of-people-experiencing-homelessness/, Name: Homeless deaths by cause.xml, Last Modified: 2024-04-17T21:08:38.686431, Type: XML, Size: 0.05 MB, URL: https://ckan0.cf.opendata.inter.prod-toronto.ca/dataset/a7ae08f3-c512-4a88-bb3c-ab40eca50c5e/resource/70b87dc7-e0a7-467b-92cd-891043d68965/download/homeless-deaths-by-cause.xml\n",
      "7) Page URL: https://open.toronto.ca/dataset/deaths-of-people-experiencing-homelessness/, Name: Homeless deaths by cause.json, Last Modified: 2024-04-17T21:08:39.794548, Type: JSON, Size: 0.03 MB, URL: https://ckan0.cf.opendata.inter.prod-toronto.ca/dataset/a7ae08f3-c512-4a88-bb3c-ab40eca50c5e/resource/2b5bb51f-0af5-40ea-9bd2-1d82f25f4d7e/download/homeless-deaths-by-cause.json\n",
      "8) Page URL: https://open.toronto.ca/dataset/deaths-of-people-experiencing-homelessness/, Name: Homeless deaths by demographics, Last Modified: None, Type: CSV, Size: 0.00 MB, URL: https://ckan0.cf.opendata.inter.prod-toronto.ca/datastore/dump/a21028cd-cda8-4bf3-bba8-de9c6834b887\n",
      "9) Page URL: https://open.toronto.ca/dataset/deaths-of-people-experiencing-homelessness/, Name: Homeless deaths by demographics.csv, Last Modified: 2024-04-17T21:09:35.524334, Type: CSV, Size: 0.00 MB, URL: https://ckan0.cf.opendata.inter.prod-toronto.ca/dataset/a7ae08f3-c512-4a88-bb3c-ab40eca50c5e/resource/04a75c51-e1ad-4ac3-82bf-e894b16bb9e5/download/homeless-deaths-by-demographics.csv\n",
      "10) Page URL: https://open.toronto.ca/dataset/deaths-of-people-experiencing-homelessness/, Name: Homeless deaths by demographics.xml, Last Modified: 2024-04-17T21:09:36.625278, Type: XML, Size: 0.01 MB, URL: https://ckan0.cf.opendata.inter.prod-toronto.ca/dataset/a7ae08f3-c512-4a88-bb3c-ab40eca50c5e/resource/93f565ff-071c-4df9-982b-9982d2054d94/download/homeless-deaths-by-demographics.xml\n",
      "11) Page URL: https://open.toronto.ca/dataset/deaths-of-people-experiencing-homelessness/, Name: Homeless deaths by demographics.json, Last Modified: 2024-04-17T21:09:37.632486, Type: JSON, Size: 0.01 MB, URL: https://ckan0.cf.opendata.inter.prod-toronto.ca/dataset/a7ae08f3-c512-4a88-bb3c-ab40eca50c5e/resource/fc19a8f8-262c-4796-b083-9438af8ba3e5/download/homeless-deaths-by-demographics.json\n",
      "[Downloader] Downloading: 'Homeless deaths by month' (0.00 MB) in folder 'deaths-of-people-experiencing-homelessness'.\n",
      "[Downloader] Downloaded: 'Homeless deaths by month' (0.00 MB) in folder 'deaths-of-people-experiencing-homelessness'.\n",
      "[Downloader] Downloading: 'Homeless deaths by month.csv' (0.00 MB) in folder 'deaths-of-people-experiencing-homelessness'.\n",
      "[Downloader] Downloaded: 'Homeless deaths by month.csv' (0.00 MB) in folder 'deaths-of-people-experiencing-homelessness'.\n",
      "[Downloader] Downloading: 'Homeless deaths by month.xml' (0.01 MB) in folder 'deaths-of-people-experiencing-homelessness'.\n",
      "[Downloader] Downloaded: 'Homeless deaths by month.xml' (0.01 MB) in folder 'deaths-of-people-experiencing-homelessness'.\n",
      "[Downloader] Downloading: 'Homeless deaths by month.json' (0.01 MB) in folder 'deaths-of-people-experiencing-homelessness'.\n",
      "[Downloader] Downloaded: 'Homeless deaths by month.json' (0.01 MB) in folder 'deaths-of-people-experiencing-homelessness'.\n",
      "[Downloader] Downloading: 'Homeless deaths by cause' (0.00 MB) in folder 'deaths-of-people-experiencing-homelessness'.\n",
      "[Downloader] Downloaded: 'Homeless deaths by cause' (0.00 MB) in folder 'deaths-of-people-experiencing-homelessness'.\n",
      "[Downloader] Downloading: 'Homeless deaths by cause.csv' (0.01 MB) in folder 'deaths-of-people-experiencing-homelessness'.\n",
      "[Downloader] Downloaded: 'Homeless deaths by cause.csv' (0.01 MB) in folder 'deaths-of-people-experiencing-homelessness'.\n",
      "[Downloader] Downloading: 'Homeless deaths by cause.xml' (0.05 MB) in folder 'deaths-of-people-experiencing-homelessness'.\n",
      "[Downloader] Downloaded: 'Homeless deaths by cause.xml' (0.05 MB) in folder 'deaths-of-people-experiencing-homelessness'.\n",
      "[Downloader] Downloading: 'Homeless deaths by cause.json' (0.03 MB) in folder 'deaths-of-people-experiencing-homelessness'.\n",
      "[Downloader] Downloaded: 'Homeless deaths by cause.json' (0.03 MB) in folder 'deaths-of-people-experiencing-homelessness'.\n",
      "[Downloader] Downloading: 'Homeless deaths by demographics' (0.00 MB) in folder 'deaths-of-people-experiencing-homelessness'.\n",
      "[Downloader] Downloaded: 'Homeless deaths by demographics' (0.00 MB) in folder 'deaths-of-people-experiencing-homelessness'.\n",
      "[Downloader] Downloading: 'Homeless deaths by demographics.csv' (0.00 MB) in folder 'deaths-of-people-experiencing-homelessness'.\n",
      "[Downloader] Downloaded: 'Homeless deaths by demographics.csv' (0.00 MB) in folder 'deaths-of-people-experiencing-homelessness'.\n",
      "[Downloader] Downloading: 'Homeless deaths by demographics.xml' (0.01 MB) in folder 'deaths-of-people-experiencing-homelessness'.\n",
      "[Downloader] Downloaded: 'Homeless deaths by demographics.xml' (0.01 MB) in folder 'deaths-of-people-experiencing-homelessness'.\n",
      "[Downloader] Downloading: 'Homeless deaths by demographics.json' (0.01 MB) in folder 'deaths-of-people-experiencing-homelessness'.\n",
      "[Downloader] Downloaded: 'Homeless deaths by demographics.json' (0.01 MB) in folder 'deaths-of-people-experiencing-homelessness'.\n",
      "\n",
      "\n",
      "This is the list of downloaded paths and destinations:\n",
      "'8b2e5ec9-7cee-49cc-a67e-bba38e5077be':'C:\\projects\\BigData2Project\\data\\raw\\homeless\\death_by\\deaths-of-people-experiencing-homelessness\\8b2e5ec9-7cee-49cc-a67e-bba38e5077be'\n",
      "'homeless-deaths-by-month.csv':'C:\\projects\\BigData2Project\\data\\raw\\homeless\\death_by\\deaths-of-people-experiencing-homelessness\\homeless-deaths-by-month.csv'\n",
      "'homeless-deaths-by-month.xml':'C:\\projects\\BigData2Project\\data\\raw\\homeless\\death_by\\deaths-of-people-experiencing-homelessness\\homeless-deaths-by-month.xml'\n",
      "'homeless-deaths-by-month.json':'C:\\projects\\BigData2Project\\data\\raw\\homeless\\death_by\\deaths-of-people-experiencing-homelessness\\homeless-deaths-by-month.json'\n",
      "'f056edc0-7741-4e66-b78a-163753359f64':'C:\\projects\\BigData2Project\\data\\raw\\homeless\\death_by\\deaths-of-people-experiencing-homelessness\\f056edc0-7741-4e66-b78a-163753359f64'\n",
      "'homeless-deaths-by-cause.csv':'C:\\projects\\BigData2Project\\data\\raw\\homeless\\death_by\\deaths-of-people-experiencing-homelessness\\homeless-deaths-by-cause.csv'\n",
      "'homeless-deaths-by-cause.xml':'C:\\projects\\BigData2Project\\data\\raw\\homeless\\death_by\\deaths-of-people-experiencing-homelessness\\homeless-deaths-by-cause.xml'\n",
      "'homeless-deaths-by-cause.json':'C:\\projects\\BigData2Project\\data\\raw\\homeless\\death_by\\deaths-of-people-experiencing-homelessness\\homeless-deaths-by-cause.json'\n",
      "'a21028cd-cda8-4bf3-bba8-de9c6834b887':'C:\\projects\\BigData2Project\\data\\raw\\homeless\\death_by\\deaths-of-people-experiencing-homelessness\\a21028cd-cda8-4bf3-bba8-de9c6834b887'\n",
      "'homeless-deaths-by-demographics.csv':'C:\\projects\\BigData2Project\\data\\raw\\homeless\\death_by\\deaths-of-people-experiencing-homelessness\\homeless-deaths-by-demographics.csv'\n",
      "'homeless-deaths-by-demographics.xml':'C:\\projects\\BigData2Project\\data\\raw\\homeless\\death_by\\deaths-of-people-experiencing-homelessness\\homeless-deaths-by-demographics.xml'\n",
      "'homeless-deaths-by-demographics.json':'C:\\projects\\BigData2Project\\data\\raw\\homeless\\death_by\\deaths-of-people-experiencing-homelessness\\homeless-deaths-by-demographics.json'\n",
      "\n",
      "\n",
      "[Downloader] Finished downloading 12 urls.\n"
     ]
    }
   ],
   "execution_count": 2
  },
  {
   "metadata": {},
   "cell_type": "markdown",
   "source": "# Death by Cause",
   "id": "ed62ffd291d5020b"
  },
  {
   "metadata": {
    "ExecuteTime": {
     "end_time": "2024-07-05T02:31:49.660336Z",
     "start_time": "2024-07-05T02:31:48.772946Z"
    }
   },
   "cell_type": "code",
   "source": [
    "import pandas as pd\n",
    "\n",
    "filename = \"homeless-deaths-by-cause.csv\"\n",
    "data_by_cause = pd.read_csv(downloader.get_path_for_downloaded_file(filename))\n",
    "\n",
    "data_by_cause['Cause_of_death'] = data_by_cause['Cause_of_death'].str.lower().str.strip()\n",
    "data_by_cause['Year of death'] = data_by_cause['Year of death'].astype(int)\n",
    "data_by_cause['Count'] = data_by_cause['Count'].astype(int)\n",
    "data_by_cause['Count'] = data_by_cause['Count'].apply(lambda x: min(x, 50))\n",
    "\n",
    "cleaned_folder = os.path.join(project_folder, 'data', 'cleaned', 'homeless', 'death_by')\n",
    "os.makedirs(cleaned_folder, exist_ok=True)\n",
    "\n",
    "cleaned_file_path = os.path.join(cleaned_folder, filename)\n",
    "data_by_cause.to_csv(cleaned_file_path, index=False)"
   ],
   "id": "deb221bbf06dfd52",
   "outputs": [],
   "execution_count": 3
  },
  {
   "metadata": {},
   "cell_type": "markdown",
   "source": "# Death by Demographic",
   "id": "6cbe7538e7ad8561"
  },
  {
   "metadata": {
    "ExecuteTime": {
     "end_time": "2024-07-05T02:34:00.887916Z",
     "start_time": "2024-07-05T02:34:00.874975Z"
    }
   },
   "cell_type": "code",
   "source": [
    "import os\n",
    "import pandas as pd\n",
    "\n",
    "# Load the dataset\n",
    "filename = \"homeless-deaths-by-demographics.csv\"\n",
    "data_by_demographics = pd.read_csv(downloader.get_path_for_downloaded_file(filename))\n",
    "\n",
    "# Convert Data Types (if necessary)\n",
    "data_by_demographics['Year of death'] = data_by_demographics['Year of death'].astype(int)\n",
    "data_by_demographics['Count'] = data_by_demographics['Count'].astype(int)\n",
    "\n",
    "# Define the path for the cleaned data\n",
    "cleaned_folder = os.path.join(project_folder, 'data', 'cleaned', 'homeless', 'death_by')\n",
    "os.makedirs(cleaned_folder, exist_ok=True)  # Creates the directory if it doesn't exist\n",
    "\n",
    "cleaned_file_path = os.path.join(cleaned_folder, filename)\n",
    "data_by_demographics.to_csv(cleaned_file_path, index=False)"
   ],
   "id": "718a02c1ac1488c9",
   "outputs": [],
   "execution_count": 4
  },
  {
   "metadata": {},
   "cell_type": "markdown",
   "source": "# Death by Month",
   "id": "6b82182cfec95c60"
  },
  {
   "metadata": {
    "ExecuteTime": {
     "end_time": "2024-07-05T02:35:23.945541Z",
     "start_time": "2024-07-05T02:35:23.934741Z"
    }
   },
   "cell_type": "code",
   "source": [
    "import os\n",
    "import pandas as pd\n",
    "\n",
    "# Load the dataset\n",
    "filename = \"homeless-deaths-by-month.csv\"\n",
    "data_by_month = pd.read_csv(downloader.get_path_for_downloaded_file(filename))\n",
    "\n",
    "# Convert Data Types (if necessary)\n",
    "data_by_month['Year of death'] = data_by_month['Year of death'].astype(int)\n",
    "data_by_month['Count'] = data_by_month['Count'].astype(int)\n",
    "\n",
    "# Define the path for the cleaned data\n",
    "cleaned_folder = os.path.join(project_folder, 'data', 'cleaned', 'homeless', 'death_by')\n",
    "os.makedirs(cleaned_folder, exist_ok=True)  # Creates the directory if it doesn't exist\n",
    "\n",
    "cleaned_file_path = os.path.join(cleaned_folder, filename)\n",
    "data_by_month.to_csv(cleaned_file_path, index=False)"
   ],
   "id": "690790dce4941f6",
   "outputs": [],
   "execution_count": 5
  }
 ],
 "metadata": {
  "kernelspec": {
   "display_name": "Python 3",
   "language": "python",
   "name": "python3"
  },
  "language_info": {
   "codemirror_mode": {
    "name": "ipython",
    "version": 2
   },
   "file_extension": ".py",
   "mimetype": "text/x-python",
   "name": "python",
   "nbconvert_exporter": "python",
   "pygments_lexer": "ipython2",
   "version": "2.7.6"
  }
 },
 "nbformat": 4,
 "nbformat_minor": 5
}
